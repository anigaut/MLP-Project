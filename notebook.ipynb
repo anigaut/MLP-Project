{
 "cells": [
  {
   "cell_type": "markdown",
   "metadata": {},
   "source": [
    "# Importing Required Libraries"
   ]
  },
  {
   "cell_type": "code",
   "execution_count": 2,
   "metadata": {
    "execution": {
     "iopub.execute_input": "2024-08-20T08:11:22.091424Z",
     "iopub.status.busy": "2024-08-20T08:11:22.091074Z",
     "iopub.status.idle": "2024-08-20T08:11:24.365250Z",
     "shell.execute_reply": "2024-08-20T08:11:24.364360Z",
     "shell.execute_reply.started": "2024-08-20T08:11:22.091396Z"
    }
   },
   "outputs": [],
   "source": [
    "import numpy as np \n",
    "import pandas as pd \n",
    "import matplotlib.pyplot as plt\n",
    "import seaborn as sns"
   ]
  },
  {
   "cell_type": "markdown",
   "metadata": {},
   "source": [
    "# Importing training data"
   ]
  },
  {
   "cell_type": "code",
   "execution_count": 3,
   "metadata": {
    "execution": {
     "iopub.execute_input": "2024-08-20T08:11:24.367449Z",
     "iopub.status.busy": "2024-08-20T08:11:24.367005Z",
     "iopub.status.idle": "2024-08-20T08:11:24.556535Z",
     "shell.execute_reply": "2024-08-20T08:11:24.555564Z",
     "shell.execute_reply.started": "2024-08-20T08:11:24.367419Z"
    }
   },
   "outputs": [],
   "source": [
    "training_data = pd.read_csv(\"train.csv\")\n",
    "X_train = training_data.drop(\"Crime_Category\", axis = 1)\n",
    "y_train = training_data[\"Crime_Category\"]"
   ]
  },
  {
   "cell_type": "markdown",
   "metadata": {},
   "source": [
    "# Importing Test Data"
   ]
  },
  {
   "cell_type": "code",
   "execution_count": 4,
   "metadata": {
    "execution": {
     "iopub.execute_input": "2024-08-20T08:11:24.557896Z",
     "iopub.status.busy": "2024-08-20T08:11:24.557597Z",
     "iopub.status.idle": "2024-08-20T08:11:24.608023Z",
     "shell.execute_reply": "2024-08-20T08:11:24.607145Z",
     "shell.execute_reply.started": "2024-08-20T08:11:24.557870Z"
    }
   },
   "outputs": [],
   "source": [
    "X_test = pd.read_csv(\"test.csv\")"
   ]
  },
  {
   "cell_type": "markdown",
   "metadata": {},
   "source": [
    "# Exploratory Data Analysis"
   ]
  },
  {
   "cell_type": "code",
   "execution_count": 5,
   "metadata": {
    "execution": {
     "iopub.execute_input": "2024-08-20T08:11:24.610537Z",
     "iopub.status.busy": "2024-08-20T08:11:24.610220Z",
     "iopub.status.idle": "2024-08-20T08:11:24.615650Z",
     "shell.execute_reply": "2024-08-20T08:11:24.614720Z",
     "shell.execute_reply.started": "2024-08-20T08:11:24.610510Z"
    }
   },
   "outputs": [
    {
     "name": "stdout",
     "output_type": "stream",
     "text": [
      "(20000, 21)\n",
      "(5000, 21)\n"
     ]
    }
   ],
   "source": [
    "print(X_train.shape)\n",
    "print(X_test.shape)"
   ]
  },
  {
   "cell_type": "code",
   "execution_count": 6,
   "metadata": {
    "execution": {
     "iopub.execute_input": "2024-08-20T08:11:24.617368Z",
     "iopub.status.busy": "2024-08-20T08:11:24.616974Z",
     "iopub.status.idle": "2024-08-20T08:11:24.654186Z",
     "shell.execute_reply": "2024-08-20T08:11:24.653216Z",
     "shell.execute_reply.started": "2024-08-20T08:11:24.617342Z"
    }
   },
   "outputs": [
    {
     "data": {
      "text/html": [
       "<div>\n",
       "<style scoped>\n",
       "    .dataframe tbody tr th:only-of-type {\n",
       "        vertical-align: middle;\n",
       "    }\n",
       "\n",
       "    .dataframe tbody tr th {\n",
       "        vertical-align: top;\n",
       "    }\n",
       "\n",
       "    .dataframe thead th {\n",
       "        text-align: right;\n",
       "    }\n",
       "</style>\n",
       "<table border=\"1\" class=\"dataframe\">\n",
       "  <thead>\n",
       "    <tr style=\"text-align: right;\">\n",
       "      <th></th>\n",
       "      <th>Location</th>\n",
       "      <th>Cross_Street</th>\n",
       "      <th>Latitude</th>\n",
       "      <th>Longitude</th>\n",
       "      <th>Date_Reported</th>\n",
       "      <th>Date_Occurred</th>\n",
       "      <th>Time_Occurred</th>\n",
       "      <th>Area_ID</th>\n",
       "      <th>Area_Name</th>\n",
       "      <th>Reporting_District_no</th>\n",
       "      <th>...</th>\n",
       "      <th>Victim_Age</th>\n",
       "      <th>Victim_Sex</th>\n",
       "      <th>Victim_Descent</th>\n",
       "      <th>Premise_Code</th>\n",
       "      <th>Premise_Description</th>\n",
       "      <th>Weapon_Used_Code</th>\n",
       "      <th>Weapon_Description</th>\n",
       "      <th>Status</th>\n",
       "      <th>Status_Description</th>\n",
       "      <th>Crime_Category</th>\n",
       "    </tr>\n",
       "  </thead>\n",
       "  <tbody>\n",
       "    <tr>\n",
       "      <th>0</th>\n",
       "      <td>4500    CARPENTER                    AV</td>\n",
       "      <td>NaN</td>\n",
       "      <td>34.1522</td>\n",
       "      <td>-118.3910</td>\n",
       "      <td>03/09/2020 12:00:00 AM</td>\n",
       "      <td>03/06/2020 12:00:00 AM</td>\n",
       "      <td>1800.0</td>\n",
       "      <td>15.0</td>\n",
       "      <td>N Hollywood</td>\n",
       "      <td>1563.0</td>\n",
       "      <td>...</td>\n",
       "      <td>75.0</td>\n",
       "      <td>M</td>\n",
       "      <td>W</td>\n",
       "      <td>101.0</td>\n",
       "      <td>STREET</td>\n",
       "      <td>NaN</td>\n",
       "      <td>NaN</td>\n",
       "      <td>IC</td>\n",
       "      <td>Invest Cont</td>\n",
       "      <td>Property Crimes</td>\n",
       "    </tr>\n",
       "    <tr>\n",
       "      <th>1</th>\n",
       "      <td>45TH                         ST</td>\n",
       "      <td>ALAMEDA                      ST</td>\n",
       "      <td>34.0028</td>\n",
       "      <td>-118.2391</td>\n",
       "      <td>02/27/2020 12:00:00 AM</td>\n",
       "      <td>02/27/2020 12:00:00 AM</td>\n",
       "      <td>1345.0</td>\n",
       "      <td>13.0</td>\n",
       "      <td>Newton</td>\n",
       "      <td>1367.0</td>\n",
       "      <td>...</td>\n",
       "      <td>41.0</td>\n",
       "      <td>M</td>\n",
       "      <td>H</td>\n",
       "      <td>216.0</td>\n",
       "      <td>SWAP MEET</td>\n",
       "      <td>400.0</td>\n",
       "      <td>STRONG-ARM (HANDS, FIST, FEET OR BODILY FORCE)</td>\n",
       "      <td>IC</td>\n",
       "      <td>Invest Cont</td>\n",
       "      <td>Property Crimes</td>\n",
       "    </tr>\n",
       "    <tr>\n",
       "      <th>2</th>\n",
       "      <td>600 E  MARTIN LUTHER KING JR        BL</td>\n",
       "      <td>NaN</td>\n",
       "      <td>34.0111</td>\n",
       "      <td>-118.2653</td>\n",
       "      <td>08/21/2020 12:00:00 AM</td>\n",
       "      <td>08/21/2020 12:00:00 AM</td>\n",
       "      <td>605.0</td>\n",
       "      <td>13.0</td>\n",
       "      <td>Newton</td>\n",
       "      <td>1343.0</td>\n",
       "      <td>...</td>\n",
       "      <td>67.0</td>\n",
       "      <td>M</td>\n",
       "      <td>B</td>\n",
       "      <td>501.0</td>\n",
       "      <td>SINGLE FAMILY DWELLING</td>\n",
       "      <td>NaN</td>\n",
       "      <td>NaN</td>\n",
       "      <td>IC</td>\n",
       "      <td>Invest Cont</td>\n",
       "      <td>Property Crimes</td>\n",
       "    </tr>\n",
       "    <tr>\n",
       "      <th>3</th>\n",
       "      <td>14900    ORO GRANDE                   ST</td>\n",
       "      <td>NaN</td>\n",
       "      <td>34.2953</td>\n",
       "      <td>-118.4590</td>\n",
       "      <td>11/08/2020 12:00:00 AM</td>\n",
       "      <td>11/06/2020 12:00:00 AM</td>\n",
       "      <td>1800.0</td>\n",
       "      <td>19.0</td>\n",
       "      <td>Mission</td>\n",
       "      <td>1924.0</td>\n",
       "      <td>...</td>\n",
       "      <td>61.0</td>\n",
       "      <td>M</td>\n",
       "      <td>H</td>\n",
       "      <td>101.0</td>\n",
       "      <td>STREET</td>\n",
       "      <td>NaN</td>\n",
       "      <td>NaN</td>\n",
       "      <td>IC</td>\n",
       "      <td>Invest Cont</td>\n",
       "      <td>Property Crimes</td>\n",
       "    </tr>\n",
       "    <tr>\n",
       "      <th>4</th>\n",
       "      <td>7100 S  VERMONT                      AV</td>\n",
       "      <td>NaN</td>\n",
       "      <td>33.9787</td>\n",
       "      <td>-118.2918</td>\n",
       "      <td>02/25/2020 12:00:00 AM</td>\n",
       "      <td>02/25/2020 12:00:00 AM</td>\n",
       "      <td>1130.0</td>\n",
       "      <td>12.0</td>\n",
       "      <td>77th Street</td>\n",
       "      <td>1245.0</td>\n",
       "      <td>...</td>\n",
       "      <td>0.0</td>\n",
       "      <td>X</td>\n",
       "      <td>X</td>\n",
       "      <td>401.0</td>\n",
       "      <td>MINI-MART</td>\n",
       "      <td>400.0</td>\n",
       "      <td>STRONG-ARM (HANDS, FIST, FEET OR BODILY FORCE)</td>\n",
       "      <td>IC</td>\n",
       "      <td>Invest Cont</td>\n",
       "      <td>Property Crimes</td>\n",
       "    </tr>\n",
       "  </tbody>\n",
       "</table>\n",
       "<p>5 rows × 22 columns</p>\n",
       "</div>"
      ],
      "text/plain": [
       "                                   Location                     Cross_Street  \\\n",
       "0   4500    CARPENTER                    AV                              NaN   \n",
       "1           45TH                         ST  ALAMEDA                      ST   \n",
       "2    600 E  MARTIN LUTHER KING JR        BL                              NaN   \n",
       "3  14900    ORO GRANDE                   ST                              NaN   \n",
       "4   7100 S  VERMONT                      AV                              NaN   \n",
       "\n",
       "   Latitude  Longitude           Date_Reported           Date_Occurred  \\\n",
       "0   34.1522  -118.3910  03/09/2020 12:00:00 AM  03/06/2020 12:00:00 AM   \n",
       "1   34.0028  -118.2391  02/27/2020 12:00:00 AM  02/27/2020 12:00:00 AM   \n",
       "2   34.0111  -118.2653  08/21/2020 12:00:00 AM  08/21/2020 12:00:00 AM   \n",
       "3   34.2953  -118.4590  11/08/2020 12:00:00 AM  11/06/2020 12:00:00 AM   \n",
       "4   33.9787  -118.2918  02/25/2020 12:00:00 AM  02/25/2020 12:00:00 AM   \n",
       "\n",
       "   Time_Occurred  Area_ID    Area_Name  Reporting_District_no  ...  \\\n",
       "0         1800.0     15.0  N Hollywood                 1563.0  ...   \n",
       "1         1345.0     13.0       Newton                 1367.0  ...   \n",
       "2          605.0     13.0       Newton                 1343.0  ...   \n",
       "3         1800.0     19.0      Mission                 1924.0  ...   \n",
       "4         1130.0     12.0  77th Street                 1245.0  ...   \n",
       "\n",
       "   Victim_Age Victim_Sex  Victim_Descent Premise_Code     Premise_Description  \\\n",
       "0        75.0          M               W        101.0                  STREET   \n",
       "1        41.0          M               H        216.0               SWAP MEET   \n",
       "2        67.0          M               B        501.0  SINGLE FAMILY DWELLING   \n",
       "3        61.0          M               H        101.0                  STREET   \n",
       "4         0.0          X               X        401.0               MINI-MART   \n",
       "\n",
       "   Weapon_Used_Code                              Weapon_Description  Status  \\\n",
       "0               NaN                                             NaN      IC   \n",
       "1             400.0  STRONG-ARM (HANDS, FIST, FEET OR BODILY FORCE)      IC   \n",
       "2               NaN                                             NaN      IC   \n",
       "3               NaN                                             NaN      IC   \n",
       "4             400.0  STRONG-ARM (HANDS, FIST, FEET OR BODILY FORCE)      IC   \n",
       "\n",
       "  Status_Description   Crime_Category  \n",
       "0        Invest Cont  Property Crimes  \n",
       "1        Invest Cont  Property Crimes  \n",
       "2        Invest Cont  Property Crimes  \n",
       "3        Invest Cont  Property Crimes  \n",
       "4        Invest Cont  Property Crimes  \n",
       "\n",
       "[5 rows x 22 columns]"
      ]
     },
     "execution_count": 6,
     "metadata": {},
     "output_type": "execute_result"
    }
   ],
   "source": [
    "training_data.head()"
   ]
  },
  {
   "cell_type": "code",
   "execution_count": 7,
   "metadata": {
    "execution": {
     "iopub.execute_input": "2024-08-20T08:11:24.655779Z",
     "iopub.status.busy": "2024-08-20T08:11:24.655486Z",
     "iopub.status.idle": "2024-08-20T08:11:24.676386Z",
     "shell.execute_reply": "2024-08-20T08:11:24.675225Z",
     "shell.execute_reply.started": "2024-08-20T08:11:24.655753Z"
    }
   },
   "outputs": [
    {
     "data": {
      "text/plain": [
       "Location                     0\n",
       "Cross_Street             16552\n",
       "Latitude                     0\n",
       "Longitude                    0\n",
       "Date_Reported                0\n",
       "Date_Occurred                0\n",
       "Time_Occurred                0\n",
       "Area_ID                      0\n",
       "Area_Name                    0\n",
       "Reporting_District_no        0\n",
       "Part 1-2                     0\n",
       "Modus_Operandi            2741\n",
       "Victim_Age                   0\n",
       "Victim_Sex                2624\n",
       "Victim_Descent            2624\n",
       "Premise_Code                 0\n",
       "Premise_Description          5\n",
       "Weapon_Used_Code         12665\n",
       "Weapon_Description       12665\n",
       "Status                       0\n",
       "Status_Description           0\n",
       "Crime_Category               0\n",
       "dtype: int64"
      ]
     },
     "execution_count": 7,
     "metadata": {},
     "output_type": "execute_result"
    }
   ],
   "source": [
    "training_data.isnull().sum()"
   ]
  },
  {
   "cell_type": "code",
   "execution_count": 8,
   "metadata": {
    "execution": {
     "iopub.execute_input": "2024-08-20T08:11:24.677934Z",
     "iopub.status.busy": "2024-08-20T08:11:24.677614Z",
     "iopub.status.idle": "2024-08-20T08:11:24.689548Z",
     "shell.execute_reply": "2024-08-20T08:11:24.688558Z",
     "shell.execute_reply.started": "2024-08-20T08:11:24.677901Z"
    }
   },
   "outputs": [
    {
     "data": {
      "text/plain": [
       "Location                    0\n",
       "Cross_Street             4190\n",
       "Latitude                    0\n",
       "Longitude                   0\n",
       "Date_Reported               0\n",
       "Date_Occurred               0\n",
       "Time_Occurred               0\n",
       "Area_ID                     0\n",
       "Area_Name                   0\n",
       "Reporting_District_no       0\n",
       "Part 1-2                    0\n",
       "Modus_Operandi            684\n",
       "Victim_Age                  0\n",
       "Victim_Sex                643\n",
       "Victim_Descent            643\n",
       "Premise_Code                0\n",
       "Premise_Description         1\n",
       "Weapon_Used_Code         3153\n",
       "Weapon_Description       3153\n",
       "Status                      0\n",
       "Status_Description          0\n",
       "dtype: int64"
      ]
     },
     "execution_count": 8,
     "metadata": {},
     "output_type": "execute_result"
    }
   ],
   "source": [
    "X_test.isnull().sum()"
   ]
  },
  {
   "cell_type": "markdown",
   "metadata": {},
   "source": [
    "## Features to Drop\n",
    "`Area Name`: Same as Area ID\n",
    "\n",
    "`Premise Description`: Same as Premise Code\n",
    "\n",
    "`Weapon Description`, `Weapon Used Code`, `Cross Street`: Too many null values\n",
    "\n",
    "`Status Description`: Same as status\n",
    "\n",
    "`Location`: Similar to Latitude and Logitude\n"
   ]
  },
  {
   "cell_type": "markdown",
   "metadata": {},
   "source": [
    "## Nature of Columns\n",
    "Numerical Columns: `Latitude`, `Longitude`, `Victim_Age`, `Time_Occurred`, `Reporting_District_no`, `Premise_Code`\n",
    "\n",
    "Text Columns (to be converted to numerical): `Date_Reported`, `Date_Occurred`\n",
    "\n",
    "Categorical: `Area_ID`, `Part 1-2`, `Victim_Sex`, `Victim_Descent`, `Status`\n",
    "\n",
    "Since the problem is a multi-class classification one, `Crime_Category` (target) can be encoded using `LabelEncoder"
   ]
  },
  {
   "cell_type": "markdown",
   "metadata": {},
   "source": [
    "## Missing Values\n",
    "`Victim_Sex` and `Victim_Descent` contain null values that need to be imputed.\n",
    "\n",
    "`Victim_Age` contains negative values that need to be treated as null values\n",
    "\n",
    "`Latitude` and `Longitude` have zero values that need to be dealt with"
   ]
  },
  {
   "cell_type": "markdown",
   "metadata": {},
   "source": [
    "## Analysis of Target Column"
   ]
  },
  {
   "cell_type": "code",
   "execution_count": 9,
   "metadata": {
    "execution": {
     "iopub.execute_input": "2024-08-20T08:11:24.691203Z",
     "iopub.status.busy": "2024-08-20T08:11:24.690863Z",
     "iopub.status.idle": "2024-08-20T08:11:24.952021Z",
     "shell.execute_reply": "2024-08-20T08:11:24.950837Z",
     "shell.execute_reply.started": "2024-08-20T08:11:24.691171Z"
    }
   },
   "outputs": [
    {
     "data": {
      "image/png": "[encoded data removed]",
      "text/plain": [
       "<Figure size 800x800 with 1 Axes>"
      ]
     },
     "metadata": {},
     "output_type": "display_data"
    }
   ],
   "source": [
    "categories, counts = np.unique(y_train, return_counts=True)\n",
    "plt.figure(figsize=(8, 8))\n",
    "plt.pie(counts, labels=categories, autopct='%1.1f%%', startangle=140)\n",
    "plt.show()"
   ]
  },
  {
   "cell_type": "markdown",
   "metadata": {},
   "source": [
    "As the pie chart shows, the majority of crimes committed are property crimes, with violent crimes getting a solid share as well."
   ]
  },
  {
   "cell_type": "markdown",
   "metadata": {},
   "source": [
    "## Visualising Numerical Columns"
   ]
  },
  {
   "cell_type": "code",
   "execution_count": 10,
   "metadata": {
    "execution": {
     "iopub.execute_input": "2024-08-20T08:11:24.953773Z",
     "iopub.status.busy": "2024-08-20T08:11:24.953320Z",
     "iopub.status.idle": "2024-08-20T08:11:25.815545Z",
     "shell.execute_reply": "2024-08-20T08:11:25.814377Z",
     "shell.execute_reply.started": "2024-08-20T08:11:24.953738Z"
    }
   },
   "outputs": [
    {
     "data": {
      "image/png": "[encoded data removed]",
      "text/plain": [
       "<Figure size 640x480 with 1 Axes>"
      ]
     },
     "metadata": {},
     "output_type": "display_data"
    }
   ],
   "source": [
    "X_train[\"Victim_Age\"].plot.density(color=\"green\")\n",
    "plt.title(\"Victim Age\")\n",
    "plt.show()"
   ]
  },
  {
   "cell_type": "markdown",
   "metadata": {},
   "source": [
    "There a a few negative and 0 values which will need to be imputed. Other wise, it a follows normal distribution."
   ]
  },
  {
   "cell_type": "markdown",
   "metadata": {},
   "source": [
    "## Visualising Date Columns"
   ]
  },
  {
   "cell_type": "code",
   "execution_count": 11,
   "metadata": {
    "execution": {
     "iopub.execute_input": "2024-08-20T08:11:25.820623Z",
     "iopub.status.busy": "2024-08-20T08:11:25.820291Z",
     "iopub.status.idle": "2024-08-20T08:11:25.902367Z",
     "shell.execute_reply": "2024-08-20T08:11:25.901306Z",
     "shell.execute_reply.started": "2024-08-20T08:11:25.820597Z"
    }
   },
   "outputs": [],
   "source": [
    "day_occurred = np.array(pd.to_datetime(X_train[\"Date_Occurred\"], format='%m/%d/%Y %I:%M:%S %p').apply(lambda x: x.weekday()))\n",
    "month_occurred = np.array(pd.to_datetime(X_train[\"Date_Occurred\"], format='%m/%d/%Y %I:%M:%S %p').apply(lambda x: x.month))"
   ]
  },
  {
   "cell_type": "code",
   "execution_count": 12,
   "metadata": {
    "execution": {
     "iopub.execute_input": "2024-08-20T08:11:25.903952Z",
     "iopub.status.busy": "2024-08-20T08:11:25.903578Z",
     "iopub.status.idle": "2024-08-20T08:11:25.913285Z",
     "shell.execute_reply": "2024-08-20T08:11:25.911857Z",
     "shell.execute_reply.started": "2024-08-20T08:11:25.903919Z"
    }
   },
   "outputs": [],
   "source": [
    "day_totals = []\n",
    "days = [0, 1, 2, 3, 4, 5, 6]\n",
    "for day in days:\n",
    "    day_totals.append(len(day_occurred[day_occurred == day]))\n",
    "\n",
    "month_totals = []\n",
    "months = [1, 2, 3, 4, 5, 6, 7, 8, 9, 10, 11, 12]\n",
    "for month in months:\n",
    "    month_totals.append(len(month_occurred[month_occurred == month]))"
   ]
  },
  {
   "cell_type": "code",
   "execution_count": 13,
   "metadata": {
    "execution": {
     "iopub.execute_input": "2024-08-20T08:11:25.916108Z",
     "iopub.status.busy": "2024-08-20T08:11:25.915490Z",
     "iopub.status.idle": "2024-08-20T08:11:26.196608Z",
     "shell.execute_reply": "2024-08-20T08:11:26.195609Z",
     "shell.execute_reply.started": "2024-08-20T08:11:25.916037Z"
    }
   },
   "outputs": [
    {
     "data": {
      "image/png": "[encoded data removed]",
      "text/plain": [
       "<Figure size 1000x600 with 1 Axes>"
      ]
     },
     "metadata": {},
     "output_type": "display_data"
    }
   ],
   "source": [
    "plt.figure(figsize=(10, 6))\n",
    "plt.bar([\"Monday\", \"Tuesday\", \"Wednesday\", \"Thursday\", \"Friday\", \"Saturday\", \"Sunday\"], day_totals, color=\"red\")\n",
    "plt.title(\"Distribution of Crimes Through the Week\")\n",
    "plt.xlabel(\"Day\")\n",
    "plt.ylabel(\"Number of Crimes\")\n",
    "plt.show()"
   ]
  },
  {
   "cell_type": "code",
   "execution_count": 14,
   "metadata": {
    "execution": {
     "iopub.execute_input": "2024-08-20T08:11:26.198351Z",
     "iopub.status.busy": "2024-08-20T08:11:26.198031Z",
     "iopub.status.idle": "2024-08-20T08:11:26.500830Z",
     "shell.execute_reply": "2024-08-20T08:11:26.499605Z",
     "shell.execute_reply.started": "2024-08-20T08:11:26.198324Z"
    }
   },
   "outputs": [
    {
     "data": {
      "image/png": "[encoded data removed]",
      "text/plain": [
       "<Figure size 1000x600 with 1 Axes>"
      ]
     },
     "metadata": {},
     "output_type": "display_data"
    }
   ],
   "source": [
    "plt.figure(figsize=(10, 6))\n",
    "plt.bar([\"Jan\", \"Feb\", \"Mar\", \"Apr\", \"May\", \"June\", \"July\", \"Aug\", \"Sep\", \"Oct\", \"Nov\", \"Dec\"], month_totals, color=\"blue\")\n",
    "plt.title(\"Crimes Committed by Month\")\n",
    "plt.xlabel(\"Month\")\n",
    "plt.ylabel(\"Number of Crimes\")\n",
    "plt.show()"
   ]
  },
  {
   "cell_type": "markdown",
   "metadata": {},
   "source": [
    "- The above two charts show us that crimes are well-distributed across days of the week and months, showing no particular bias to any day or month.\n",
    "- Fridays and January, however, have eked out a small lead over their rivals."
   ]
  },
  {
   "cell_type": "markdown",
   "metadata": {},
   "source": [
    "## Visualising Latitude and Logitude"
   ]
  },
  {
   "cell_type": "markdown",
   "metadata": {},
   "source": [
    "A scatter plot of `Latitude` and `Longitude` is plotted below."
   ]
  },
  {
   "cell_type": "code",
   "execution_count": 15,
   "metadata": {
    "execution": {
     "iopub.execute_input": "2024-08-20T08:11:26.502898Z",
     "iopub.status.busy": "2024-08-20T08:11:26.502495Z",
     "iopub.status.idle": "2024-08-20T08:11:26.838967Z",
     "shell.execute_reply": "2024-08-20T08:11:26.837738Z",
     "shell.execute_reply.started": "2024-08-20T08:11:26.502868Z"
    }
   },
   "outputs": [
    {
     "data": {
      "image/png": "[encoded data removed]",
      "text/plain": [
       "<Figure size 640x480 with 1 Axes>"
      ]
     },
     "metadata": {},
     "output_type": "display_data"
    }
   ],
   "source": [
    "plt.scatter(x = X_train[\"Latitude\"], y = X_train[\"Longitude\"], c=\"green\")\n",
    "plt.xlim(33.7, 34.4)\n",
    "plt.ylim(-118.7, -118)\n",
    "plt.title(\"Geographic Distribution of crimes\")\n",
    "plt.xlabel(\"Latitude\")\n",
    "plt.ylabel(\"Longitude\")\n",
    "plt.show()"
   ]
  },
  {
   "cell_type": "markdown",
   "metadata": {},
   "source": [
    "The scatter plot shows us that crimes seem to be relatively well distributed across the city. However, there are several rows in which both Latitude and Longitude are 0. These must be addressed in the preprocessing steps"
   ]
  },
  {
   "cell_type": "markdown",
   "metadata": {},
   "source": [
    "## Visualising Categorical Variables"
   ]
  },
  {
   "cell_type": "code",
   "execution_count": 16,
   "metadata": {
    "execution": {
     "iopub.execute_input": "2024-08-20T08:11:26.840975Z",
     "iopub.status.busy": "2024-08-20T08:11:26.840583Z",
     "iopub.status.idle": "2024-08-20T08:11:29.190241Z",
     "shell.execute_reply": "2024-08-20T08:11:29.189035Z",
     "shell.execute_reply.started": "2024-08-20T08:11:26.840940Z"
    }
   },
   "outputs": [
    {
     "data": {
      "image/png": "[encoded data removed]",
      "text/plain": [
       "<Figure size 640x480 with 1 Axes>"
      ]
     },
     "metadata": {},
     "output_type": "display_data"
    },
    {
     "data": {
      "image/png": "[encoded data removed]",
      "text/plain": [
       "<Figure size 640x480 with 1 Axes>"
      ]
     },
     "metadata": {},
     "output_type": "display_data"
    },
    {
     "data": {
      "image/png": "[encoded data removed]",
      "text/plain": [
       "<Figure size 640x480 with 1 Axes>"
      ]
     },
     "metadata": {},
     "output_type": "display_data"
    },
    {
     "data": {
      "image/png": "[encoded data removed]",
      "text/plain": [
       "<Figure size 640x480 with 1 Axes>"
      ]
     },
     "metadata": {},
     "output_type": "display_data"
    },
    {
     "data": {
      "image/png": "[encoded data removed]",
      "text/plain": [
       "<Figure size 640x480 with 1 Axes>"
      ]
     },
     "metadata": {},
     "output_type": "display_data"
    },
    {
     "data": {
      "image/png": "[encoded data removed]",
      "text/plain": [
       "<Figure size 640x480 with 1 Axes>"
      ]
     },
     "metadata": {},
     "output_type": "display_data"
    },
    {
     "data": {
      "image/png": "[encoded data removed]",
      "text/plain": [
       "<Figure size 640x480 with 1 Axes>"
      ]
     },
     "metadata": {},
     "output_type": "display_data"
    },
    {
     "data": {
      "image/png": "[encoded data removed]",
      "text/plain": [
       "<Figure size 640x480 with 1 Axes>"
      ]
     },
     "metadata": {},
     "output_type": "display_data"
    }
   ],
   "source": [
    "sns.countplot(x = \"Victim_Sex\", data = X_train)\n",
    "plt.title(\"Victim Sex\")\n",
    "plt.show()\n",
    "\n",
    "sns.countplot(x = \"Victim_Descent\", data = X_train)\n",
    "plt.title(\"Victim Descent\")\n",
    "plt.show()\n",
    "\n",
    "sns.countplot(x = \"Status\", data = X_train)\n",
    "plt.title(\"Status\")\n",
    "plt.show()\n",
    "\n",
    "sns.countplot(x = \"Part 1-2\", data = X_train)\n",
    "plt.title(\"Part 1-2\")\n",
    "plt.show()\n",
    "\n",
    "sns.countplot(x = \"Area_ID\", data = X_train)\n",
    "plt.title(\"Area ID\")\n",
    "plt.show()\n",
    "\n",
    "plt.hist(X_train[\"Reporting_District_no\"], bins = 10)\n",
    "plt.title(\"Reporting District Number\")\n",
    "plt.show()\n",
    "\n",
    "plt.hist(X_train[\"Premise_Code\"], bins = 50)\n",
    "plt.title(\"Premise Code\")\n",
    "plt.show()\n",
    "\n",
    "plt.hist(X_train[\"Time_Occurred\"], bins = 50)\n",
    "plt.title(\"Time Occurred\")\n",
    "plt.show()"
   ]
  },
  {
   "cell_type": "markdown",
   "metadata": {},
   "source": [
    "- Crimes are committed relatively uniformly across genders and ethnic backgrounds.\n",
    "- Their status however, is in favour of the \"IC\" category.\n",
    "- As the Latitude and Longitude scatter plot suggested, the Area_ID plot also suggests that crimes are committed uniformly in different regions.\n",
    "- However, the premise codes are heavily dominated by a few select codes.\n",
    "- Crimes are committed somewhat uniformly through the day, with some periods having higher spikes."
   ]
  },
  {
   "cell_type": "markdown",
   "metadata": {},
   "source": [
    "# Preprocessing"
   ]
  },
  {
   "cell_type": "markdown",
   "metadata": {},
   "source": [
    "## Imports"
   ]
  },
  {
   "cell_type": "code",
   "execution_count": 17,
   "metadata": {
    "execution": {
     "iopub.execute_input": "2024-08-20T08:11:29.192876Z",
     "iopub.status.busy": "2024-08-20T08:11:29.192464Z",
     "iopub.status.idle": "2024-08-20T08:11:29.302675Z",
     "shell.execute_reply": "2024-08-20T08:11:29.301519Z",
     "shell.execute_reply.started": "2024-08-20T08:11:29.192839Z"
    }
   },
   "outputs": [],
   "source": [
    "# Classes required to transform the data to convert categorical data to numerical form and scale numerical columns\n",
    "from sklearn.preprocessing import LabelEncoder, StandardScaler, OneHotEncoder\n",
    "\n",
    "# Converts text data to numerical based on the 'words' in the text\n",
    "from sklearn.feature_extraction.text import CountVectorizer"
   ]
  },
  {
   "cell_type": "markdown",
   "metadata": {},
   "source": [
    "## Transforming target column "
   ]
  },
  {
   "cell_type": "code",
   "execution_count": 18,
   "metadata": {
    "execution": {
     "iopub.execute_input": "2024-08-20T08:11:29.304394Z",
     "iopub.status.busy": "2024-08-20T08:11:29.304040Z",
     "iopub.status.idle": "2024-08-20T08:11:29.315601Z",
     "shell.execute_reply": "2024-08-20T08:11:29.314109Z",
     "shell.execute_reply.started": "2024-08-20T08:11:29.304358Z"
    }
   },
   "outputs": [],
   "source": [
    "lab_enc = LabelEncoder()\n",
    "y_train = lab_enc.fit_transform(y_train)"
   ]
  },
  {
   "cell_type": "markdown",
   "metadata": {},
   "source": [
    "## Dropping Required Columns"
   ]
  },
  {
   "cell_type": "code",
   "execution_count": 19,
   "metadata": {
    "execution": {
     "iopub.execute_input": "2024-08-20T08:11:29.317148Z",
     "iopub.status.busy": "2024-08-20T08:11:29.316752Z",
     "iopub.status.idle": "2024-08-20T08:11:29.330876Z",
     "shell.execute_reply": "2024-08-20T08:11:29.329566Z",
     "shell.execute_reply.started": "2024-08-20T08:11:29.317114Z"
    }
   },
   "outputs": [],
   "source": [
    "X_train.drop([\"Area_Name\", \"Premise_Description\", \"Weapon_Description\", \"Status_Description\",\"Cross_Street\", \"Weapon_Used_Code\", \"Location\"], axis = 1, inplace = True)\n",
    "X_test.drop([\"Area_Name\", \"Premise_Description\", \"Weapon_Description\", \"Status_Description\", \"Cross_Street\", \"Weapon_Used_Code\", \"Location\"], axis = 1, inplace = True)"
   ]
  },
  {
   "cell_type": "markdown",
   "metadata": {},
   "source": [
    "## Converting Date Columns to Suitable Format"
   ]
  },
  {
   "cell_type": "markdown",
   "metadata": {},
   "source": [
    "### Date Reported"
   ]
  },
  {
   "cell_type": "code",
   "execution_count": 20,
   "metadata": {
    "execution": {
     "iopub.execute_input": "2024-08-20T08:11:29.332448Z",
     "iopub.status.busy": "2024-08-20T08:11:29.332046Z",
     "iopub.status.idle": "2024-08-20T08:11:29.418092Z",
     "shell.execute_reply": "2024-08-20T08:11:29.417064Z",
     "shell.execute_reply.started": "2024-08-20T08:11:29.332415Z"
    }
   },
   "outputs": [],
   "source": [
    "X_train[\"Date_Reported\"] = pd.to_datetime(X_train[\"Date_Reported\"], format = \"%m/%d/%Y %I:%M:%S %p\")\n",
    "X_train[\"Date_Reported\"] = X_train[\"Date_Reported\"].apply(lambda x: int(x.timestamp()))\n",
    "\n",
    "X_test[\"Date_Reported\"] = pd.to_datetime(X_test[\"Date_Reported\"], format = \"%m/%d/%Y %I:%M:%S %p\")\n",
    "X_test[\"Date_Reported\"] = X_test[\"Date_Reported\"].apply(lambda x: int(x.timestamp()))"
   ]
  },
  {
   "cell_type": "markdown",
   "metadata": {},
   "source": [
    "### Date Occurred"
   ]
  },
  {
   "cell_type": "code",
   "execution_count": 21,
   "metadata": {
    "execution": {
     "iopub.execute_input": "2024-08-20T08:11:29.419768Z",
     "iopub.status.busy": "2024-08-20T08:11:29.419407Z",
     "iopub.status.idle": "2024-08-20T08:11:29.496177Z",
     "shell.execute_reply": "2024-08-20T08:11:29.495320Z",
     "shell.execute_reply.started": "2024-08-20T08:11:29.419741Z"
    }
   },
   "outputs": [],
   "source": [
    "X_train[\"Date_Occurred\"] = pd.to_datetime(X_train[\"Date_Occurred\"], format = \"%m/%d/%Y %I:%M:%S %p\")\n",
    "X_train[\"Date_Occurred\"] = X_train[\"Date_Occurred\"].apply(lambda x: int(x.timestamp()))\n",
    "\n",
    "X_test[\"Date_Occurred\"] = pd.to_datetime(X_test[\"Date_Occurred\"], format = \"%m/%d/%Y %I:%M:%S %p\")\n",
    "X_test[\"Date_Occurred\"] = X_test[\"Date_Occurred\"].apply(lambda x: int(x.timestamp()))"
   ]
  },
  {
   "cell_type": "markdown",
   "metadata": {},
   "source": [
    "### Dropping Original Columns"
   ]
  },
  {
   "cell_type": "markdown",
   "metadata": {},
   "source": [
    "## Dealing with Missing Values"
   ]
  },
  {
   "cell_type": "code",
   "execution_count": 22,
   "metadata": {
    "execution": {
     "iopub.execute_input": "2024-08-20T08:11:29.497858Z",
     "iopub.status.busy": "2024-08-20T08:11:29.497447Z",
     "iopub.status.idle": "2024-08-20T08:11:29.507386Z",
     "shell.execute_reply": "2024-08-20T08:11:29.506243Z",
     "shell.execute_reply.started": "2024-08-20T08:11:29.497824Z"
    }
   },
   "outputs": [
    {
     "data": {
      "text/plain": [
       "(78, 14)"
      ]
     },
     "execution_count": 22,
     "metadata": {},
     "output_type": "execute_result"
    }
   ],
   "source": [
    "X_train[(X_train[\"Latitude\"] == 0) & (X_train[\"Longitude\"] == 0)].shape"
   ]
  },
  {
   "cell_type": "markdown",
   "metadata": {},
   "source": [
    "### Latitude and Logitude\n",
    "- There are several columns for which latitude and longitude are both 0. This represents the Null Island, off the coast of Guinea. It's very unlikely that this dataset is focused on that location as all the other coordinates are very different. Hence, the zero values will be imputed.\n",
    "- If we impute the 0 values, the coordinates of the data indicates that the data is taken from Los Angeles, USA."
   ]
  },
  {
   "cell_type": "code",
   "execution_count": 23,
   "metadata": {
    "execution": {
     "iopub.execute_input": "2024-08-20T08:11:29.509238Z",
     "iopub.status.busy": "2024-08-20T08:11:29.508822Z",
     "iopub.status.idle": "2024-08-20T08:11:29.528251Z",
     "shell.execute_reply": "2024-08-20T08:11:29.527247Z",
     "shell.execute_reply.started": "2024-08-20T08:11:29.509203Z"
    }
   },
   "outputs": [],
   "source": [
    "X_train[\"Latitude\"] = X_train[\"Latitude\"].apply(lambda x: np.nan if x <= 0 else x) \n",
    "X_test[\"Latitude\"] = X_test[\"Latitude\"].apply(lambda x: np.nan if x <= 0 else x)\n",
    "\n",
    "mean_lat = X_train[\"Latitude\"].mean()\n",
    "\n",
    "X_train[\"Latitude\"] = X_train[\"Latitude\"].fillna(mean_lat)\n",
    "X_test[\"Latitude\"] = X_test[\"Latitude\"].fillna(mean_lat)"
   ]
  },
  {
   "cell_type": "code",
   "execution_count": 24,
   "metadata": {
    "execution": {
     "iopub.execute_input": "2024-08-20T08:11:29.530246Z",
     "iopub.status.busy": "2024-08-20T08:11:29.529839Z",
     "iopub.status.idle": "2024-08-20T08:11:29.550460Z",
     "shell.execute_reply": "2024-08-20T08:11:29.549078Z",
     "shell.execute_reply.started": "2024-08-20T08:11:29.530210Z"
    }
   },
   "outputs": [],
   "source": [
    "X_train[\"Longitude\"] = X_train[\"Longitude\"].apply(lambda x: np.nan if x <= 0 else x) \n",
    "X_test[\"Longitude\"] = X_test[\"Longitude\"].apply(lambda x: np.nan if x <= 0 else x)\n",
    "\n",
    "mean_long = X_train[\"Longitude\"].mean()\n",
    "\n",
    "X_train[\"Longitude\"] = X_train[\"Longitude\"].fillna(mean_lat)\n",
    "X_test[\"Longitude\"] = X_test[\"Longitude\"].fillna(mean_lat)"
   ]
  },
  {
   "cell_type": "markdown",
   "metadata": {},
   "source": [
    "### Victim Age\n",
    "Replacing negative values in `Victim_Age` to null to enable imputation. The now null values will be replaced with the median."
   ]
  },
  {
   "cell_type": "code",
   "execution_count": 25,
   "metadata": {
    "execution": {
     "iopub.execute_input": "2024-08-20T08:11:29.552137Z",
     "iopub.status.busy": "2024-08-20T08:11:29.551814Z",
     "iopub.status.idle": "2024-08-20T08:11:29.577300Z",
     "shell.execute_reply": "2024-08-20T08:11:29.576411Z",
     "shell.execute_reply.started": "2024-08-20T08:11:29.552096Z"
    }
   },
   "outputs": [],
   "source": [
    "X_train[\"Victim_Age\"] = X_train[\"Victim_Age\"].apply(lambda x: np.nan if x <= 0 else x) \n",
    "X_test[\"Victim_Age\"] = X_test[\"Victim_Age\"].apply(lambda x: np.nan if x <= 0 else x)\n",
    "\n",
    "median_age = X_train[\"Victim_Age\"].median()\n",
    "\n",
    "X_train[\"Victim_Age\"] = X_train[\"Victim_Age\"].fillna(median_age)\n",
    "X_test[\"Victim_Age\"] = X_test[\"Victim_Age\"].fillna(median_age)"
   ]
  },
  {
   "cell_type": "markdown",
   "metadata": {},
   "source": [
    "### Victim Sex, Victim Descent, Modus Operandi\n",
    "Since these are categorical values, their most frequent values will be taken to fill the missing ones."
   ]
  },
  {
   "cell_type": "code",
   "execution_count": 26,
   "metadata": {
    "execution": {
     "iopub.execute_input": "2024-08-20T08:11:29.578970Z",
     "iopub.status.busy": "2024-08-20T08:11:29.578585Z",
     "iopub.status.idle": "2024-08-20T08:11:29.605032Z",
     "shell.execute_reply": "2024-08-20T08:11:29.603973Z",
     "shell.execute_reply.started": "2024-08-20T08:11:29.578936Z"
    }
   },
   "outputs": [],
   "source": [
    "most_frequent_sex = X_train[\"Victim_Sex\"].mode()[0]\n",
    "X_train[\"Victim_Sex\"] = X_train[\"Victim_Sex\"].fillna(most_frequent_sex)\n",
    "X_test[\"Victim_Sex\"] = X_test[\"Victim_Sex\"].fillna(most_frequent_sex)\n",
    "\n",
    "most_frequent_descent = X_train[\"Victim_Descent\"].mode()[0]\n",
    "X_train[\"Victim_Descent\"] = X_train[\"Victim_Descent\"].fillna(most_frequent_descent)\n",
    "X_test[\"Victim_Descent\"] = X_test[\"Victim_Descent\"].fillna(most_frequent_descent)\n",
    "\n",
    "most_frequent_modus = X_train[\"Modus_Operandi\"].mode()[0]\n",
    "X_train[\"Modus_Operandi\"] = X_train[\"Modus_Operandi\"].fillna(most_frequent_modus)\n",
    "X_test[\"Modus_Operandi\"] = X_test[\"Modus_Operandi\"].fillna(most_frequent_modus)"
   ]
  },
  {
   "cell_type": "markdown",
   "metadata": {},
   "source": [
    "## Categorizing Variables based on type for preprocessing"
   ]
  },
  {
   "cell_type": "code",
   "execution_count": 27,
   "metadata": {
    "execution": {
     "iopub.execute_input": "2024-08-20T08:11:29.606465Z",
     "iopub.status.busy": "2024-08-20T08:11:29.606125Z",
     "iopub.status.idle": "2024-08-20T08:11:29.625113Z",
     "shell.execute_reply": "2024-08-20T08:11:29.624057Z",
     "shell.execute_reply.started": "2024-08-20T08:11:29.606440Z"
    }
   },
   "outputs": [
    {
     "data": {
      "text/html": [
       "<div>\n",
       "<style scoped>\n",
       "    .dataframe tbody tr th:only-of-type {\n",
       "        vertical-align: middle;\n",
       "    }\n",
       "\n",
       "    .dataframe tbody tr th {\n",
       "        vertical-align: top;\n",
       "    }\n",
       "\n",
       "    .dataframe thead th {\n",
       "        text-align: right;\n",
       "    }\n",
       "</style>\n",
       "<table border=\"1\" class=\"dataframe\">\n",
       "  <thead>\n",
       "    <tr style=\"text-align: right;\">\n",
       "      <th></th>\n",
       "      <th>Latitude</th>\n",
       "      <th>Longitude</th>\n",
       "      <th>Date_Reported</th>\n",
       "      <th>Date_Occurred</th>\n",
       "      <th>Time_Occurred</th>\n",
       "      <th>Area_ID</th>\n",
       "      <th>Reporting_District_no</th>\n",
       "      <th>Part 1-2</th>\n",
       "      <th>Modus_Operandi</th>\n",
       "      <th>Victim_Age</th>\n",
       "      <th>Victim_Sex</th>\n",
       "      <th>Victim_Descent</th>\n",
       "      <th>Premise_Code</th>\n",
       "      <th>Status</th>\n",
       "    </tr>\n",
       "  </thead>\n",
       "  <tbody>\n",
       "    <tr>\n",
       "      <th>0</th>\n",
       "      <td>34.1522</td>\n",
       "      <td>34.073591</td>\n",
       "      <td>1583712000</td>\n",
       "      <td>1583452800</td>\n",
       "      <td>1800.0</td>\n",
       "      <td>15.0</td>\n",
       "      <td>1563.0</td>\n",
       "      <td>1.0</td>\n",
       "      <td>0385</td>\n",
       "      <td>75.0</td>\n",
       "      <td>M</td>\n",
       "      <td>W</td>\n",
       "      <td>101.0</td>\n",
       "      <td>IC</td>\n",
       "    </tr>\n",
       "    <tr>\n",
       "      <th>1</th>\n",
       "      <td>34.0028</td>\n",
       "      <td>34.073591</td>\n",
       "      <td>1582761600</td>\n",
       "      <td>1582761600</td>\n",
       "      <td>1345.0</td>\n",
       "      <td>13.0</td>\n",
       "      <td>1367.0</td>\n",
       "      <td>1.0</td>\n",
       "      <td>0906 0352 0371 0446 1822 0344 0416 0417</td>\n",
       "      <td>41.0</td>\n",
       "      <td>M</td>\n",
       "      <td>H</td>\n",
       "      <td>216.0</td>\n",
       "      <td>IC</td>\n",
       "    </tr>\n",
       "    <tr>\n",
       "      <th>2</th>\n",
       "      <td>34.0111</td>\n",
       "      <td>34.073591</td>\n",
       "      <td>1597968000</td>\n",
       "      <td>1597968000</td>\n",
       "      <td>605.0</td>\n",
       "      <td>13.0</td>\n",
       "      <td>1343.0</td>\n",
       "      <td>2.0</td>\n",
       "      <td>0329 1202</td>\n",
       "      <td>67.0</td>\n",
       "      <td>M</td>\n",
       "      <td>B</td>\n",
       "      <td>501.0</td>\n",
       "      <td>IC</td>\n",
       "    </tr>\n",
       "    <tr>\n",
       "      <th>3</th>\n",
       "      <td>34.2953</td>\n",
       "      <td>34.073591</td>\n",
       "      <td>1604793600</td>\n",
       "      <td>1604620800</td>\n",
       "      <td>1800.0</td>\n",
       "      <td>19.0</td>\n",
       "      <td>1924.0</td>\n",
       "      <td>1.0</td>\n",
       "      <td>0329 1300</td>\n",
       "      <td>61.0</td>\n",
       "      <td>M</td>\n",
       "      <td>H</td>\n",
       "      <td>101.0</td>\n",
       "      <td>IC</td>\n",
       "    </tr>\n",
       "    <tr>\n",
       "      <th>4</th>\n",
       "      <td>33.9787</td>\n",
       "      <td>34.073591</td>\n",
       "      <td>1582588800</td>\n",
       "      <td>1582588800</td>\n",
       "      <td>1130.0</td>\n",
       "      <td>12.0</td>\n",
       "      <td>1245.0</td>\n",
       "      <td>1.0</td>\n",
       "      <td>0416 0945 1822 0400 0417 0344</td>\n",
       "      <td>37.0</td>\n",
       "      <td>X</td>\n",
       "      <td>X</td>\n",
       "      <td>401.0</td>\n",
       "      <td>IC</td>\n",
       "    </tr>\n",
       "  </tbody>\n",
       "</table>\n",
       "</div>"
      ],
      "text/plain": [
       "   Latitude  Longitude  Date_Reported  Date_Occurred  Time_Occurred  Area_ID  \\\n",
       "0   34.1522  34.073591     1583712000     1583452800         1800.0     15.0   \n",
       "1   34.0028  34.073591     1582761600     1582761600         1345.0     13.0   \n",
       "2   34.0111  34.073591     1597968000     1597968000          605.0     13.0   \n",
       "3   34.2953  34.073591     1604793600     1604620800         1800.0     19.0   \n",
       "4   33.9787  34.073591     1582588800     1582588800         1130.0     12.0   \n",
       "\n",
       "   Reporting_District_no  Part 1-2                           Modus_Operandi  \\\n",
       "0                 1563.0       1.0                                     0385   \n",
       "1                 1367.0       1.0  0906 0352 0371 0446 1822 0344 0416 0417   \n",
       "2                 1343.0       2.0                                0329 1202   \n",
       "3                 1924.0       1.0                                0329 1300   \n",
       "4                 1245.0       1.0            0416 0945 1822 0400 0417 0344   \n",
       "\n",
       "   Victim_Age Victim_Sex Victim_Descent  Premise_Code Status  \n",
       "0        75.0          M              W         101.0     IC  \n",
       "1        41.0          M              H         216.0     IC  \n",
       "2        67.0          M              B         501.0     IC  \n",
       "3        61.0          M              H         101.0     IC  \n",
       "4        37.0          X              X         401.0     IC  "
      ]
     },
     "execution_count": 27,
     "metadata": {},
     "output_type": "execute_result"
    }
   ],
   "source": [
    "X_train.head()"
   ]
  },
  {
   "cell_type": "code",
   "execution_count": 28,
   "metadata": {
    "execution": {
     "iopub.execute_input": "2024-08-20T08:11:29.626990Z",
     "iopub.status.busy": "2024-08-20T08:11:29.626584Z",
     "iopub.status.idle": "2024-08-20T08:11:29.635125Z",
     "shell.execute_reply": "2024-08-20T08:11:29.634099Z",
     "shell.execute_reply.started": "2024-08-20T08:11:29.626954Z"
    }
   },
   "outputs": [],
   "source": [
    "numerical = [\"Latitude\", \"Longitude\", \"Victim_Age\", \"Time_Occurred\", \"Date_Reported\", \"Date_Occurred\",\n",
    "            \"Reporting_District_no\", \"Premise_Code\"]\n",
    "categorical = [\"Area_ID\", \"Part 1-2\", \"Victim_Sex\", \"Victim_Descent\", \"Status\"]"
   ]
  },
  {
   "cell_type": "markdown",
   "metadata": {},
   "source": [
    "- The time and date columns could be categorical as well, but I have chosen to treat them as numerical columns."
   ]
  },
  {
   "cell_type": "markdown",
   "metadata": {},
   "source": [
    "## Scaling Numerical Columns"
   ]
  },
  {
   "cell_type": "code",
   "execution_count": 29,
   "metadata": {
    "execution": {
     "iopub.execute_input": "2024-08-20T08:11:29.641413Z",
     "iopub.status.busy": "2024-08-20T08:11:29.640307Z",
     "iopub.status.idle": "2024-08-20T08:11:29.646033Z",
     "shell.execute_reply": "2024-08-20T08:11:29.645054Z",
     "shell.execute_reply.started": "2024-08-20T08:11:29.641383Z"
    }
   },
   "outputs": [],
   "source": [
    "scaler = StandardScaler().set_output(transform = \"pandas\")"
   ]
  },
  {
   "cell_type": "code",
   "execution_count": 30,
   "metadata": {
    "execution": {
     "iopub.execute_input": "2024-08-20T08:11:29.647547Z",
     "iopub.status.busy": "2024-08-20T08:11:29.647245Z",
     "iopub.status.idle": "2024-08-20T08:11:29.671367Z",
     "shell.execute_reply": "2024-08-20T08:11:29.670316Z",
     "shell.execute_reply.started": "2024-08-20T08:11:29.647522Z"
    }
   },
   "outputs": [],
   "source": [
    "X_train_num = scaler.fit_transform(X_train[numerical])\n",
    "X_test_num = scaler.transform(X_test[numerical])"
   ]
  },
  {
   "cell_type": "markdown",
   "metadata": {},
   "source": [
    "## Encoding Categorical Columns"
   ]
  },
  {
   "cell_type": "code",
   "execution_count": 31,
   "metadata": {
    "execution": {
     "iopub.execute_input": "2024-08-20T08:11:29.672847Z",
     "iopub.status.busy": "2024-08-20T08:11:29.672554Z",
     "iopub.status.idle": "2024-08-20T08:11:29.677796Z",
     "shell.execute_reply": "2024-08-20T08:11:29.676872Z",
     "shell.execute_reply.started": "2024-08-20T08:11:29.672823Z"
    }
   },
   "outputs": [],
   "source": [
    "onehot_enc = OneHotEncoder(handle_unknown = 'ignore', sparse_output = False).set_output(transform = \"pandas\")"
   ]
  },
  {
   "cell_type": "code",
   "execution_count": 32,
   "metadata": {
    "execution": {
     "iopub.execute_input": "2024-08-20T08:11:29.679339Z",
     "iopub.status.busy": "2024-08-20T08:11:29.678988Z",
     "iopub.status.idle": "2024-08-20T08:11:29.736520Z",
     "shell.execute_reply": "2024-08-20T08:11:29.735659Z",
     "shell.execute_reply.started": "2024-08-20T08:11:29.679313Z"
    }
   },
   "outputs": [],
   "source": [
    "X_train_cat = onehot_enc.fit_transform(X_train[categorical])\n",
    "X_test_cat = onehot_enc.transform(X_test[categorical])"
   ]
  },
  {
   "cell_type": "markdown",
   "metadata": {},
   "source": [
    "## Vectorizing `Modus_Operandi`\n",
    "- This column represents the past crimes committed by the criminal in each row. Each such crime is denoted as four digit number in String form. We can use the `count_vectorizer` class, which is used to deal with text data, since each past crime can be treated as a 'word'."
   ]
  },
  {
   "cell_type": "code",
   "execution_count": 33,
   "metadata": {
    "execution": {
     "iopub.execute_input": "2024-08-20T08:11:29.738196Z",
     "iopub.status.busy": "2024-08-20T08:11:29.737778Z",
     "iopub.status.idle": "2024-08-20T08:11:29.742901Z",
     "shell.execute_reply": "2024-08-20T08:11:29.741916Z",
     "shell.execute_reply.started": "2024-08-20T08:11:29.738141Z"
    }
   },
   "outputs": [],
   "source": [
    "vectorizer = CountVectorizer()"
   ]
  },
  {
   "cell_type": "code",
   "execution_count": 34,
   "metadata": {
    "execution": {
     "iopub.execute_input": "2024-08-20T08:11:29.744643Z",
     "iopub.status.busy": "2024-08-20T08:11:29.744298Z",
     "iopub.status.idle": "2024-08-20T08:11:29.954777Z",
     "shell.execute_reply": "2024-08-20T08:11:29.953807Z",
     "shell.execute_reply.started": "2024-08-20T08:11:29.744602Z"
    }
   },
   "outputs": [],
   "source": [
    "train_modus = vectorizer.fit_transform(X_train[\"Modus_Operandi\"]).toarray()\n",
    "test_modus = vectorizer.transform(X_test[\"Modus_Operandi\"]).toarray()"
   ]
  },
  {
   "cell_type": "code",
   "execution_count": 35,
   "metadata": {
    "execution": {
     "iopub.execute_input": "2024-08-20T08:11:29.956138Z",
     "iopub.status.busy": "2024-08-20T08:11:29.955839Z",
     "iopub.status.idle": "2024-08-20T08:11:29.962648Z",
     "shell.execute_reply": "2024-08-20T08:11:29.961538Z",
     "shell.execute_reply.started": "2024-08-20T08:11:29.956113Z"
    }
   },
   "outputs": [],
   "source": [
    "X_train_mod = pd.DataFrame(data = train_modus, columns = vectorizer.get_feature_names_out())\n",
    "X_test_mod = pd.DataFrame(data = test_modus, columns = vectorizer.get_feature_names_out())"
   ]
  },
  {
   "cell_type": "markdown",
   "metadata": {},
   "source": [
    "## Concatenating all 3 parts"
   ]
  },
  {
   "cell_type": "code",
   "execution_count": 36,
   "metadata": {
    "execution": {
     "iopub.execute_input": "2024-08-20T08:11:29.964574Z",
     "iopub.status.busy": "2024-08-20T08:11:29.964099Z",
     "iopub.status.idle": "2024-08-20T08:11:30.159130Z",
     "shell.execute_reply": "2024-08-20T08:11:30.157950Z",
     "shell.execute_reply.started": "2024-08-20T08:11:29.964539Z"
    }
   },
   "outputs": [],
   "source": [
    "X_train_final = pd.concat([X_train_num, X_train_cat, X_train_mod], axis = 1)\n",
    "X_test_final = pd.concat([X_test_num, X_test_cat, X_test_mod], axis = 1)"
   ]
  },
  {
   "cell_type": "code",
   "execution_count": 37,
   "metadata": {
    "execution": {
     "iopub.execute_input": "2024-08-20T08:11:30.160743Z",
     "iopub.status.busy": "2024-08-20T08:11:30.160350Z",
     "iopub.status.idle": "2024-08-20T08:11:30.184143Z",
     "shell.execute_reply": "2024-08-20T08:11:30.182925Z",
     "shell.execute_reply.started": "2024-08-20T08:11:30.160709Z"
    }
   },
   "outputs": [
    {
     "data": {
      "text/html": [
       "<div>\n",
       "<style scoped>\n",
       "    .dataframe tbody tr th:only-of-type {\n",
       "        vertical-align: middle;\n",
       "    }\n",
       "\n",
       "    .dataframe tbody tr th {\n",
       "        vertical-align: top;\n",
       "    }\n",
       "\n",
       "    .dataframe thead th {\n",
       "        text-align: right;\n",
       "    }\n",
       "</style>\n",
       "<table border=\"1\" class=\"dataframe\">\n",
       "  <thead>\n",
       "    <tr style=\"text-align: right;\">\n",
       "      <th></th>\n",
       "      <th>Latitude</th>\n",
       "      <th>Longitude</th>\n",
       "      <th>Victim_Age</th>\n",
       "      <th>Time_Occurred</th>\n",
       "      <th>Date_Reported</th>\n",
       "      <th>Date_Occurred</th>\n",
       "      <th>Reporting_District_no</th>\n",
       "      <th>Premise_Code</th>\n",
       "      <th>Area_ID_1.0</th>\n",
       "      <th>Area_ID_2.0</th>\n",
       "      <th>...</th>\n",
       "      <th>2126</th>\n",
       "      <th>2157</th>\n",
       "      <th>2201</th>\n",
       "      <th>2204</th>\n",
       "      <th>2303</th>\n",
       "      <th>2304</th>\n",
       "      <th>3003</th>\n",
       "      <th>3004</th>\n",
       "      <th>4025</th>\n",
       "      <th>9999</th>\n",
       "    </tr>\n",
       "  </thead>\n",
       "  <tbody>\n",
       "    <tr>\n",
       "      <th>0</th>\n",
       "      <td>0.694330</td>\n",
       "      <td>7.105427e-15</td>\n",
       "      <td>2.606813</td>\n",
       "      <td>0.692819</td>\n",
       "      <td>-0.869817</td>\n",
       "      <td>-1.084459</td>\n",
       "      <td>0.718365</td>\n",
       "      <td>-0.925354</td>\n",
       "      <td>0.0</td>\n",
       "      <td>0.0</td>\n",
       "      <td>...</td>\n",
       "      <td>0</td>\n",
       "      <td>0</td>\n",
       "      <td>0</td>\n",
       "      <td>0</td>\n",
       "      <td>0</td>\n",
       "      <td>0</td>\n",
       "      <td>0</td>\n",
       "      <td>0</td>\n",
       "      <td>0</td>\n",
       "      <td>0</td>\n",
       "    </tr>\n",
       "    <tr>\n",
       "      <th>1</th>\n",
       "      <td>-0.625282</td>\n",
       "      <td>7.105427e-15</td>\n",
       "      <td>0.139456</td>\n",
       "      <td>-0.011423</td>\n",
       "      <td>-0.941243</td>\n",
       "      <td>-1.160006</td>\n",
       "      <td>0.393494</td>\n",
       "      <td>-0.382907</td>\n",
       "      <td>0.0</td>\n",
       "      <td>0.0</td>\n",
       "      <td>...</td>\n",
       "      <td>0</td>\n",
       "      <td>0</td>\n",
       "      <td>0</td>\n",
       "      <td>0</td>\n",
       "      <td>0</td>\n",
       "      <td>0</td>\n",
       "      <td>0</td>\n",
       "      <td>0</td>\n",
       "      <td>0</td>\n",
       "      <td>0</td>\n",
       "    </tr>\n",
       "    <tr>\n",
       "      <th>2</th>\n",
       "      <td>-0.551970</td>\n",
       "      <td>7.105427e-15</td>\n",
       "      <td>2.026258</td>\n",
       "      <td>-1.156785</td>\n",
       "      <td>0.201564</td>\n",
       "      <td>0.502032</td>\n",
       "      <td>0.353713</td>\n",
       "      <td>0.961420</td>\n",
       "      <td>0.0</td>\n",
       "      <td>0.0</td>\n",
       "      <td>...</td>\n",
       "      <td>0</td>\n",
       "      <td>0</td>\n",
       "      <td>0</td>\n",
       "      <td>0</td>\n",
       "      <td>0</td>\n",
       "      <td>0</td>\n",
       "      <td>0</td>\n",
       "      <td>0</td>\n",
       "      <td>0</td>\n",
       "      <td>0</td>\n",
       "    </tr>\n",
       "    <tr>\n",
       "      <th>3</th>\n",
       "      <td>1.958296</td>\n",
       "      <td>7.105427e-15</td>\n",
       "      <td>1.590843</td>\n",
       "      <td>0.692819</td>\n",
       "      <td>0.714528</td>\n",
       "      <td>1.229174</td>\n",
       "      <td>1.316725</td>\n",
       "      <td>-0.925354</td>\n",
       "      <td>0.0</td>\n",
       "      <td>0.0</td>\n",
       "      <td>...</td>\n",
       "      <td>0</td>\n",
       "      <td>0</td>\n",
       "      <td>0</td>\n",
       "      <td>0</td>\n",
       "      <td>0</td>\n",
       "      <td>0</td>\n",
       "      <td>0</td>\n",
       "      <td>0</td>\n",
       "      <td>0</td>\n",
       "      <td>0</td>\n",
       "    </tr>\n",
       "    <tr>\n",
       "      <th>4</th>\n",
       "      <td>-0.838151</td>\n",
       "      <td>7.105427e-15</td>\n",
       "      <td>-0.150821</td>\n",
       "      <td>-0.344197</td>\n",
       "      <td>-0.954229</td>\n",
       "      <td>-1.178893</td>\n",
       "      <td>0.191278</td>\n",
       "      <td>0.489727</td>\n",
       "      <td>0.0</td>\n",
       "      <td>0.0</td>\n",
       "      <td>...</td>\n",
       "      <td>0</td>\n",
       "      <td>0</td>\n",
       "      <td>0</td>\n",
       "      <td>0</td>\n",
       "      <td>0</td>\n",
       "      <td>0</td>\n",
       "      <td>0</td>\n",
       "      <td>0</td>\n",
       "      <td>0</td>\n",
       "      <td>0</td>\n",
       "    </tr>\n",
       "  </tbody>\n",
       "</table>\n",
       "<p>5 rows × 538 columns</p>\n",
       "</div>"
      ],
      "text/plain": [
       "   Latitude     Longitude  Victim_Age  Time_Occurred  Date_Reported  \\\n",
       "0  0.694330  7.105427e-15    2.606813       0.692819      -0.869817   \n",
       "1 -0.625282  7.105427e-15    0.139456      -0.011423      -0.941243   \n",
       "2 -0.551970  7.105427e-15    2.026258      -1.156785       0.201564   \n",
       "3  1.958296  7.105427e-15    1.590843       0.692819       0.714528   \n",
       "4 -0.838151  7.105427e-15   -0.150821      -0.344197      -0.954229   \n",
       "\n",
       "   Date_Occurred  Reporting_District_no  Premise_Code  Area_ID_1.0  \\\n",
       "0      -1.084459               0.718365     -0.925354          0.0   \n",
       "1      -1.160006               0.393494     -0.382907          0.0   \n",
       "2       0.502032               0.353713      0.961420          0.0   \n",
       "3       1.229174               1.316725     -0.925354          0.0   \n",
       "4      -1.178893               0.191278      0.489727          0.0   \n",
       "\n",
       "   Area_ID_2.0  ...  2126  2157  2201  2204  2303  2304  3003  3004  4025  \\\n",
       "0          0.0  ...     0     0     0     0     0     0     0     0     0   \n",
       "1          0.0  ...     0     0     0     0     0     0     0     0     0   \n",
       "2          0.0  ...     0     0     0     0     0     0     0     0     0   \n",
       "3          0.0  ...     0     0     0     0     0     0     0     0     0   \n",
       "4          0.0  ...     0     0     0     0     0     0     0     0     0   \n",
       "\n",
       "   9999  \n",
       "0     0  \n",
       "1     0  \n",
       "2     0  \n",
       "3     0  \n",
       "4     0  \n",
       "\n",
       "[5 rows x 538 columns]"
      ]
     },
     "execution_count": 37,
     "metadata": {},
     "output_type": "execute_result"
    }
   ],
   "source": [
    "X_train_final.head()"
   ]
  },
  {
   "cell_type": "code",
   "execution_count": 38,
   "metadata": {
    "execution": {
     "iopub.execute_input": "2024-08-20T08:11:30.186214Z",
     "iopub.status.busy": "2024-08-20T08:11:30.185825Z",
     "iopub.status.idle": "2024-08-20T08:11:30.211065Z",
     "shell.execute_reply": "2024-08-20T08:11:30.209649Z",
     "shell.execute_reply.started": "2024-08-20T08:11:30.186177Z"
    }
   },
   "outputs": [
    {
     "data": {
      "text/html": [
       "<div>\n",
       "<style scoped>\n",
       "    .dataframe tbody tr th:only-of-type {\n",
       "        vertical-align: middle;\n",
       "    }\n",
       "\n",
       "    .dataframe tbody tr th {\n",
       "        vertical-align: top;\n",
       "    }\n",
       "\n",
       "    .dataframe thead th {\n",
       "        text-align: right;\n",
       "    }\n",
       "</style>\n",
       "<table border=\"1\" class=\"dataframe\">\n",
       "  <thead>\n",
       "    <tr style=\"text-align: right;\">\n",
       "      <th></th>\n",
       "      <th>Latitude</th>\n",
       "      <th>Longitude</th>\n",
       "      <th>Victim_Age</th>\n",
       "      <th>Time_Occurred</th>\n",
       "      <th>Date_Reported</th>\n",
       "      <th>Date_Occurred</th>\n",
       "      <th>Reporting_District_no</th>\n",
       "      <th>Premise_Code</th>\n",
       "      <th>Area_ID_1.0</th>\n",
       "      <th>Area_ID_2.0</th>\n",
       "      <th>...</th>\n",
       "      <th>2126</th>\n",
       "      <th>2157</th>\n",
       "      <th>2201</th>\n",
       "      <th>2204</th>\n",
       "      <th>2303</th>\n",
       "      <th>2304</th>\n",
       "      <th>3003</th>\n",
       "      <th>3004</th>\n",
       "      <th>4025</th>\n",
       "      <th>9999</th>\n",
       "    </tr>\n",
       "  </thead>\n",
       "  <tbody>\n",
       "    <tr>\n",
       "      <th>0</th>\n",
       "      <td>-0.536955</td>\n",
       "      <td>7.105427e-15</td>\n",
       "      <td>-0.803945</td>\n",
       "      <td>1.002377</td>\n",
       "      <td>-0.908777</td>\n",
       "      <td>-1.112789</td>\n",
       "      <td>-1.249097</td>\n",
       "      <td>0.961420</td>\n",
       "      <td>0.0</td>\n",
       "      <td>0.0</td>\n",
       "      <td>...</td>\n",
       "      <td>0</td>\n",
       "      <td>0</td>\n",
       "      <td>0</td>\n",
       "      <td>0</td>\n",
       "      <td>0</td>\n",
       "      <td>0</td>\n",
       "      <td>0</td>\n",
       "      <td>0</td>\n",
       "      <td>0</td>\n",
       "      <td>0</td>\n",
       "    </tr>\n",
       "    <tr>\n",
       "      <th>1</th>\n",
       "      <td>-0.008757</td>\n",
       "      <td>7.105427e-15</td>\n",
       "      <td>-0.949083</td>\n",
       "      <td>0.538041</td>\n",
       "      <td>-0.324387</td>\n",
       "      <td>-0.612289</td>\n",
       "      <td>1.465901</td>\n",
       "      <td>0.966137</td>\n",
       "      <td>0.0</td>\n",
       "      <td>0.0</td>\n",
       "      <td>...</td>\n",
       "      <td>0</td>\n",
       "      <td>0</td>\n",
       "      <td>0</td>\n",
       "      <td>0</td>\n",
       "      <td>0</td>\n",
       "      <td>0</td>\n",
       "      <td>0</td>\n",
       "      <td>0</td>\n",
       "      <td>0</td>\n",
       "      <td>0</td>\n",
       "    </tr>\n",
       "    <tr>\n",
       "      <th>2</th>\n",
       "      <td>-1.225909</td>\n",
       "      <td>7.105427e-15</td>\n",
       "      <td>1.663412</td>\n",
       "      <td>-0.700188</td>\n",
       "      <td>0.247016</td>\n",
       "      <td>0.558692</td>\n",
       "      <td>1.184125</td>\n",
       "      <td>1.999146</td>\n",
       "      <td>0.0</td>\n",
       "      <td>0.0</td>\n",
       "      <td>...</td>\n",
       "      <td>0</td>\n",
       "      <td>0</td>\n",
       "      <td>0</td>\n",
       "      <td>0</td>\n",
       "      <td>0</td>\n",
       "      <td>0</td>\n",
       "      <td>0</td>\n",
       "      <td>0</td>\n",
       "      <td>0</td>\n",
       "      <td>0</td>\n",
       "    </tr>\n",
       "    <tr>\n",
       "      <th>3</th>\n",
       "      <td>-0.211027</td>\n",
       "      <td>7.105427e-15</td>\n",
       "      <td>-0.150821</td>\n",
       "      <td>1.311934</td>\n",
       "      <td>1.006723</td>\n",
       "      <td>1.484145</td>\n",
       "      <td>-0.604326</td>\n",
       "      <td>-0.892336</td>\n",
       "      <td>0.0</td>\n",
       "      <td>0.0</td>\n",
       "      <td>...</td>\n",
       "      <td>0</td>\n",
       "      <td>0</td>\n",
       "      <td>0</td>\n",
       "      <td>0</td>\n",
       "      <td>0</td>\n",
       "      <td>0</td>\n",
       "      <td>0</td>\n",
       "      <td>0</td>\n",
       "      <td>0</td>\n",
       "      <td>0</td>\n",
       "    </tr>\n",
       "    <tr>\n",
       "      <th>4</th>\n",
       "      <td>0.772941</td>\n",
       "      <td>7.105427e-15</td>\n",
       "      <td>-0.150821</td>\n",
       "      <td>-1.891983</td>\n",
       "      <td>0.260003</td>\n",
       "      <td>0.577579</td>\n",
       "      <td>0.705105</td>\n",
       "      <td>0.961420</td>\n",
       "      <td>0.0</td>\n",
       "      <td>0.0</td>\n",
       "      <td>...</td>\n",
       "      <td>0</td>\n",
       "      <td>0</td>\n",
       "      <td>0</td>\n",
       "      <td>0</td>\n",
       "      <td>0</td>\n",
       "      <td>0</td>\n",
       "      <td>0</td>\n",
       "      <td>0</td>\n",
       "      <td>0</td>\n",
       "      <td>0</td>\n",
       "    </tr>\n",
       "  </tbody>\n",
       "</table>\n",
       "<p>5 rows × 538 columns</p>\n",
       "</div>"
      ],
      "text/plain": [
       "   Latitude     Longitude  Victim_Age  Time_Occurred  Date_Reported  \\\n",
       "0 -0.536955  7.105427e-15   -0.803945       1.002377      -0.908777   \n",
       "1 -0.008757  7.105427e-15   -0.949083       0.538041      -0.324387   \n",
       "2 -1.225909  7.105427e-15    1.663412      -0.700188       0.247016   \n",
       "3 -0.211027  7.105427e-15   -0.150821       1.311934       1.006723   \n",
       "4  0.772941  7.105427e-15   -0.150821      -1.891983       0.260003   \n",
       "\n",
       "   Date_Occurred  Reporting_District_no  Premise_Code  Area_ID_1.0  \\\n",
       "0      -1.112789              -1.249097      0.961420          0.0   \n",
       "1      -0.612289               1.465901      0.966137          0.0   \n",
       "2       0.558692               1.184125      1.999146          0.0   \n",
       "3       1.484145              -0.604326     -0.892336          0.0   \n",
       "4       0.577579               0.705105      0.961420          0.0   \n",
       "\n",
       "   Area_ID_2.0  ...  2126  2157  2201  2204  2303  2304  3003  3004  4025  \\\n",
       "0          0.0  ...     0     0     0     0     0     0     0     0     0   \n",
       "1          0.0  ...     0     0     0     0     0     0     0     0     0   \n",
       "2          0.0  ...     0     0     0     0     0     0     0     0     0   \n",
       "3          0.0  ...     0     0     0     0     0     0     0     0     0   \n",
       "4          0.0  ...     0     0     0     0     0     0     0     0     0   \n",
       "\n",
       "   9999  \n",
       "0     0  \n",
       "1     0  \n",
       "2     0  \n",
       "3     0  \n",
       "4     0  \n",
       "\n",
       "[5 rows x 538 columns]"
      ]
     },
     "execution_count": 38,
     "metadata": {},
     "output_type": "execute_result"
    }
   ],
   "source": [
    "X_test_final.head()"
   ]
  },
  {
   "cell_type": "markdown",
   "metadata": {},
   "source": [
    "# Model Building"
   ]
  },
  {
   "cell_type": "markdown",
   "metadata": {},
   "source": [
    "## Imports"
   ]
  },
  {
   "cell_type": "code",
   "execution_count": 39,
   "metadata": {
    "execution": {
     "iopub.execute_input": "2024-08-20T08:11:30.213572Z",
     "iopub.status.busy": "2024-08-20T08:11:30.213013Z",
     "iopub.status.idle": "2024-08-20T08:11:30.766872Z",
     "shell.execute_reply": "2024-08-20T08:11:30.765959Z",
     "shell.execute_reply.started": "2024-08-20T08:11:30.213536Z"
    }
   },
   "outputs": [],
   "source": [
    "# Algorithms used\n",
    "from sklearn.linear_model import LogisticRegression\n",
    "from sklearn.neighbors import KNeighborsClassifier\n",
    "from sklearn.svm import SVC\n",
    "from sklearn.tree import DecisionTreeClassifier\n",
    "from xgboost import XGBClassifier\n",
    "\n",
    "# Class required to split data into training and validation set\n",
    "from sklearn.model_selection import train_test_split\n",
    "\n",
    "# Classes to evaluate how well a particular model performed on the data\n",
    "from sklearn.metrics import classification_report, accuracy_score\n",
    "\n",
    "# Cross Validation and hyperparameter tuning methods\n",
    "from sklearn.model_selection import cross_val_score\n",
    "from sklearn.model_selection import GridSearchCV\n",
    "from sklearn.model_selection import RandomizedSearchCV"
   ]
  },
  {
   "cell_type": "markdown",
   "metadata": {},
   "source": [
    "## Splitting Data into training and validation sets"
   ]
  },
  {
   "cell_type": "code",
   "execution_count": 40,
   "metadata": {
    "execution": {
     "iopub.execute_input": "2024-08-20T08:11:30.768280Z",
     "iopub.status.busy": "2024-08-20T08:11:30.767978Z",
     "iopub.status.idle": "2024-08-20T08:11:30.857340Z",
     "shell.execute_reply": "2024-08-20T08:11:30.856478Z",
     "shell.execute_reply.started": "2024-08-20T08:11:30.768256Z"
    }
   },
   "outputs": [],
   "source": [
    "X_train_final, X_val, y_train, y_val = train_test_split(X_train_final, y_train, random_state=42, test_size=0.25)"
   ]
  },
  {
   "cell_type": "markdown",
   "metadata": {},
   "source": [
    "## Logistic Regression"
   ]
  },
  {
   "cell_type": "markdown",
   "metadata": {},
   "source": [
    "Logistic Regression model with given parameters."
   ]
  },
  {
   "cell_type": "code",
   "execution_count": 41,
   "metadata": {
    "execution": {
     "iopub.execute_input": "2024-08-20T08:11:30.859239Z",
     "iopub.status.busy": "2024-08-20T08:11:30.858818Z",
     "iopub.status.idle": "2024-08-20T08:11:35.589487Z",
     "shell.execute_reply": "2024-08-20T08:11:35.588414Z",
     "shell.execute_reply.started": "2024-08-20T08:11:30.859205Z"
    }
   },
   "outputs": [
    {
     "data": {
      "text/html": [
       "<style>#sk-container-id-1 {color: black;background-color: white;}#sk-container-id-1 pre{padding: 0;}#sk-container-id-1 div.sk-toggleable {background-color: white;}#sk-container-id-1 label.sk-toggleable__label {cursor: pointer;display: block;width: 100%;margin-bottom: 0;padding: 0.3em;box-sizing: border-box;text-align: center;}#sk-container-id-1 label.sk-toggleable__label-arrow:before {content: \"▸\";float: left;margin-right: 0.25em;color: #696969;}#sk-container-id-1 label.sk-toggleable__label-arrow:hover:before {color: black;}#sk-container-id-1 div.sk-estimator:hover label.sk-toggleable__label-arrow:before {color: black;}#sk-container-id-1 div.sk-toggleable__content {max-height: 0;max-width: 0;overflow: hidden;text-align: left;background-color: #f0f8ff;}#sk-container-id-1 div.sk-toggleable__content pre {margin: 0.2em;color: black;border-radius: 0.25em;background-color: #f0f8ff;}#sk-container-id-1 input.sk-toggleable__control:checked~div.sk-toggleable__content {max-height: 200px;max-width: 100%;overflow: auto;}#sk-container-id-1 input.sk-toggleable__control:checked~label.sk-toggleable__label-arrow:before {content: \"▾\";}#sk-container-id-1 div.sk-estimator input.sk-toggleable__control:checked~label.sk-toggleable__label {background-color: #d4ebff;}#sk-container-id-1 div.sk-label input.sk-toggleable__control:checked~label.sk-toggleable__label {background-color: #d4ebff;}#sk-container-id-1 input.sk-hidden--visually {border: 0;clip: rect(1px 1px 1px 1px);clip: rect(1px, 1px, 1px, 1px);height: 1px;margin: -1px;overflow: hidden;padding: 0;position: absolute;width: 1px;}#sk-container-id-1 div.sk-estimator {font-family: monospace;background-color: #f0f8ff;border: 1px dotted black;border-radius: 0.25em;box-sizing: border-box;margin-bottom: 0.5em;}#sk-container-id-1 div.sk-estimator:hover {background-color: #d4ebff;}#sk-container-id-1 div.sk-parallel-item::after {content: \"\";width: 100%;border-bottom: 1px solid gray;flex-grow: 1;}#sk-container-id-1 div.sk-label:hover label.sk-toggleable__label {background-color: #d4ebff;}#sk-container-id-1 div.sk-serial::before {content: \"\";position: absolute;border-left: 1px solid gray;box-sizing: border-box;top: 0;bottom: 0;left: 50%;z-index: 0;}#sk-container-id-1 div.sk-serial {display: flex;flex-direction: column;align-items: center;background-color: white;padding-right: 0.2em;padding-left: 0.2em;position: relative;}#sk-container-id-1 div.sk-item {position: relative;z-index: 1;}#sk-container-id-1 div.sk-parallel {display: flex;align-items: stretch;justify-content: center;background-color: white;position: relative;}#sk-container-id-1 div.sk-item::before, #sk-container-id-1 div.sk-parallel-item::before {content: \"\";position: absolute;border-left: 1px solid gray;box-sizing: border-box;top: 0;bottom: 0;left: 50%;z-index: -1;}#sk-container-id-1 div.sk-parallel-item {display: flex;flex-direction: column;z-index: 1;position: relative;background-color: white;}#sk-container-id-1 div.sk-parallel-item:first-child::after {align-self: flex-end;width: 50%;}#sk-container-id-1 div.sk-parallel-item:last-child::after {align-self: flex-start;width: 50%;}#sk-container-id-1 div.sk-parallel-item:only-child::after {width: 0;}#sk-container-id-1 div.sk-dashed-wrapped {border: 1px dashed gray;margin: 0 0.4em 0.5em 0.4em;box-sizing: border-box;padding-bottom: 0.4em;background-color: white;}#sk-container-id-1 div.sk-label label {font-family: monospace;font-weight: bold;display: inline-block;line-height: 1.2em;}#sk-container-id-1 div.sk-label-container {text-align: center;}#sk-container-id-1 div.sk-container {/* jupyter's `normalize.less` sets `[hidden] { display: none; }` but bootstrap.min.css set `[hidden] { display: none !important; }` so we also need the `!important` here to be able to override the default hidden behavior on the sphinx rendered scikit-learn.org. See: https://github.com/scikit-learn/scikit-learn/issues/21755 */display: inline-block !important;position: relative;}#sk-container-id-1 div.sk-text-repr-fallback {display: none;}</style><div id=\"sk-container-id-1\" class=\"sk-top-container\"><div class=\"sk-text-repr-fallback\"><pre>LogisticRegression(max_iter=2000, random_state=42)</pre><b>In a Jupyter environment, please rerun this cell to show the HTML representation or trust the notebook. <br />On GitHub, the HTML representation is unable to render, please try loading this page with nbviewer.org.</b></div><div class=\"sk-container\" hidden><div class=\"sk-item\"><div class=\"sk-estimator sk-toggleable\"><input class=\"sk-toggleable__control sk-hidden--visually\" id=\"sk-estimator-id-1\" type=\"checkbox\" checked><label for=\"sk-estimator-id-1\" class=\"sk-toggleable__label sk-toggleable__label-arrow\">LogisticRegression</label><div class=\"sk-toggleable__content\"><pre>LogisticRegression(max_iter=2000, random_state=42)</pre></div></div></div></div></div>"
      ],
      "text/plain": [
       "LogisticRegression(max_iter=2000, random_state=42)"
      ]
     },
     "execution_count": 41,
     "metadata": {},
     "output_type": "execute_result"
    }
   ],
   "source": [
    "logreg = LogisticRegression(max_iter = 2000, random_state = 42)\n",
    "logreg.fit(X_train_final, y_train) # fitting the model to the training data"
   ]
  },
  {
   "cell_type": "markdown",
   "metadata": {},
   "source": [
    "Classification to gauge the model's performance on the training data"
   ]
  },
  {
   "cell_type": "code",
   "execution_count": 48,
   "metadata": {
    "execution": {
     "iopub.execute_input": "2024-08-20T08:14:00.323856Z",
     "iopub.status.busy": "2024-08-20T08:14:00.323472Z",
     "iopub.status.idle": "2024-08-20T08:14:00.356016Z",
     "shell.execute_reply": "2024-08-20T08:14:00.354878Z",
     "shell.execute_reply.started": "2024-08-20T08:14:00.323827Z"
    }
   },
   "outputs": [
    {
     "name": "stdout",
     "output_type": "stream",
     "text": [
      "Accuracy score for Logistic Regression: 0.9416\n"
     ]
    }
   ],
   "source": [
    "print(f\"Accuracy score for Logistic Regression: {accuracy_score(y_val, logreg.predict(X_val))}\")"
   ]
  },
  {
   "cell_type": "code",
   "execution_count": 42,
   "metadata": {
    "execution": {
     "iopub.execute_input": "2024-08-20T08:11:35.591976Z",
     "iopub.status.busy": "2024-08-20T08:11:35.591206Z",
     "iopub.status.idle": "2024-08-20T08:11:35.653675Z",
     "shell.execute_reply": "2024-08-20T08:11:35.652613Z",
     "shell.execute_reply.started": "2024-08-20T08:11:35.591938Z"
    }
   },
   "outputs": [
    {
     "name": "stdout",
     "output_type": "stream",
     "text": [
      "              precision    recall  f1-score   support\n",
      "\n",
      "           0       0.58      0.51      0.55        41\n",
      "           1       0.80      0.81      0.81       460\n",
      "           2       0.93      0.93      0.93       337\n",
      "           3       0.45      0.21      0.29        42\n",
      "           4       0.98      0.99      0.98      2884\n",
      "           5       0.93      0.93      0.93      1236\n",
      "\n",
      "    accuracy                           0.94      5000\n",
      "   macro avg       0.78      0.73      0.75      5000\n",
      "weighted avg       0.94      0.94      0.94      5000\n",
      "\n"
     ]
    }
   ],
   "source": [
    "print(classification_report(y_val, logreg.predict(X_val), labels=np.unique(y_val)))"
   ]
  },
  {
   "cell_type": "markdown",
   "metadata": {},
   "source": [
    "The above classification report shows us that there is a significant disparity in how the model is able to predict the different labels on the training set. However they all seem to even out into a good final score.\n",
    "\n",
    "The Logistic Regression being able to deliver a good performance on the testing data shows us that it is able to accurately predict the probability of each label well. "
   ]
  },
  {
   "cell_type": "code",
   "execution_count": 43,
   "metadata": {
    "execution": {
     "iopub.execute_input": "2024-08-20T08:11:35.656246Z",
     "iopub.status.busy": "2024-08-20T08:11:35.655502Z",
     "iopub.status.idle": "2024-08-20T08:11:35.661120Z",
     "shell.execute_reply": "2024-08-20T08:11:35.660130Z",
     "shell.execute_reply.started": "2024-08-20T08:11:35.656205Z"
    }
   },
   "outputs": [],
   "source": [
    "# y_pred = lab_enc.inverse_transform(logreg.predict(X_test_final))"
   ]
  },
  {
   "cell_type": "markdown",
   "metadata": {},
   "source": [
    "## KNN Classifier"
   ]
  },
  {
   "cell_type": "markdown",
   "metadata": {},
   "source": [
    "Initializing a K-Nearest neighbors classifier model to the data. This model makes predictions for each data point based on the labels of the points that are in close proximity to it"
   ]
  },
  {
   "cell_type": "code",
   "execution_count": 44,
   "metadata": {
    "execution": {
     "iopub.execute_input": "2024-08-20T08:12:10.378546Z",
     "iopub.status.busy": "2024-08-20T08:12:10.378140Z",
     "iopub.status.idle": "2024-08-20T08:12:10.467781Z",
     "shell.execute_reply": "2024-08-20T08:12:10.466660Z",
     "shell.execute_reply.started": "2024-08-20T08:12:10.378516Z"
    }
   },
   "outputs": [
    {
     "data": {
      "text/html": [
       "<style>#sk-container-id-2 {color: black;background-color: white;}#sk-container-id-2 pre{padding: 0;}#sk-container-id-2 div.sk-toggleable {background-color: white;}#sk-container-id-2 label.sk-toggleable__label {cursor: pointer;display: block;width: 100%;margin-bottom: 0;padding: 0.3em;box-sizing: border-box;text-align: center;}#sk-container-id-2 label.sk-toggleable__label-arrow:before {content: \"▸\";float: left;margin-right: 0.25em;color: #696969;}#sk-container-id-2 label.sk-toggleable__label-arrow:hover:before {color: black;}#sk-container-id-2 div.sk-estimator:hover label.sk-toggleable__label-arrow:before {color: black;}#sk-container-id-2 div.sk-toggleable__content {max-height: 0;max-width: 0;overflow: hidden;text-align: left;background-color: #f0f8ff;}#sk-container-id-2 div.sk-toggleable__content pre {margin: 0.2em;color: black;border-radius: 0.25em;background-color: #f0f8ff;}#sk-container-id-2 input.sk-toggleable__control:checked~div.sk-toggleable__content {max-height: 200px;max-width: 100%;overflow: auto;}#sk-container-id-2 input.sk-toggleable__control:checked~label.sk-toggleable__label-arrow:before {content: \"▾\";}#sk-container-id-2 div.sk-estimator input.sk-toggleable__control:checked~label.sk-toggleable__label {background-color: #d4ebff;}#sk-container-id-2 div.sk-label input.sk-toggleable__control:checked~label.sk-toggleable__label {background-color: #d4ebff;}#sk-container-id-2 input.sk-hidden--visually {border: 0;clip: rect(1px 1px 1px 1px);clip: rect(1px, 1px, 1px, 1px);height: 1px;margin: -1px;overflow: hidden;padding: 0;position: absolute;width: 1px;}#sk-container-id-2 div.sk-estimator {font-family: monospace;background-color: #f0f8ff;border: 1px dotted black;border-radius: 0.25em;box-sizing: border-box;margin-bottom: 0.5em;}#sk-container-id-2 div.sk-estimator:hover {background-color: #d4ebff;}#sk-container-id-2 div.sk-parallel-item::after {content: \"\";width: 100%;border-bottom: 1px solid gray;flex-grow: 1;}#sk-container-id-2 div.sk-label:hover label.sk-toggleable__label {background-color: #d4ebff;}#sk-container-id-2 div.sk-serial::before {content: \"\";position: absolute;border-left: 1px solid gray;box-sizing: border-box;top: 0;bottom: 0;left: 50%;z-index: 0;}#sk-container-id-2 div.sk-serial {display: flex;flex-direction: column;align-items: center;background-color: white;padding-right: 0.2em;padding-left: 0.2em;position: relative;}#sk-container-id-2 div.sk-item {position: relative;z-index: 1;}#sk-container-id-2 div.sk-parallel {display: flex;align-items: stretch;justify-content: center;background-color: white;position: relative;}#sk-container-id-2 div.sk-item::before, #sk-container-id-2 div.sk-parallel-item::before {content: \"\";position: absolute;border-left: 1px solid gray;box-sizing: border-box;top: 0;bottom: 0;left: 50%;z-index: -1;}#sk-container-id-2 div.sk-parallel-item {display: flex;flex-direction: column;z-index: 1;position: relative;background-color: white;}#sk-container-id-2 div.sk-parallel-item:first-child::after {align-self: flex-end;width: 50%;}#sk-container-id-2 div.sk-parallel-item:last-child::after {align-self: flex-start;width: 50%;}#sk-container-id-2 div.sk-parallel-item:only-child::after {width: 0;}#sk-container-id-2 div.sk-dashed-wrapped {border: 1px dashed gray;margin: 0 0.4em 0.5em 0.4em;box-sizing: border-box;padding-bottom: 0.4em;background-color: white;}#sk-container-id-2 div.sk-label label {font-family: monospace;font-weight: bold;display: inline-block;line-height: 1.2em;}#sk-container-id-2 div.sk-label-container {text-align: center;}#sk-container-id-2 div.sk-container {/* jupyter's `normalize.less` sets `[hidden] { display: none; }` but bootstrap.min.css set `[hidden] { display: none !important; }` so we also need the `!important` here to be able to override the default hidden behavior on the sphinx rendered scikit-learn.org. See: https://github.com/scikit-learn/scikit-learn/issues/21755 */display: inline-block !important;position: relative;}#sk-container-id-2 div.sk-text-repr-fallback {display: none;}</style><div id=\"sk-container-id-2\" class=\"sk-top-container\"><div class=\"sk-text-repr-fallback\"><pre>KNeighborsClassifier()</pre><b>In a Jupyter environment, please rerun this cell to show the HTML representation or trust the notebook. <br />On GitHub, the HTML representation is unable to render, please try loading this page with nbviewer.org.</b></div><div class=\"sk-container\" hidden><div class=\"sk-item\"><div class=\"sk-estimator sk-toggleable\"><input class=\"sk-toggleable__control sk-hidden--visually\" id=\"sk-estimator-id-2\" type=\"checkbox\" checked><label for=\"sk-estimator-id-2\" class=\"sk-toggleable__label sk-toggleable__label-arrow\">KNeighborsClassifier</label><div class=\"sk-toggleable__content\"><pre>KNeighborsClassifier()</pre></div></div></div></div></div>"
      ],
      "text/plain": [
       "KNeighborsClassifier()"
      ]
     },
     "execution_count": 44,
     "metadata": {},
     "output_type": "execute_result"
    }
   ],
   "source": [
    "knn_clf = KNeighborsClassifier()\n",
    "knn_clf.fit(X_train_final, y_train)"
   ]
  },
  {
   "cell_type": "code",
   "execution_count": 45,
   "metadata": {
    "execution": {
     "iopub.execute_input": "2024-08-20T08:12:12.833733Z",
     "iopub.status.busy": "2024-08-20T08:12:12.833361Z",
     "iopub.status.idle": "2024-08-20T08:12:14.384079Z",
     "shell.execute_reply": "2024-08-20T08:12:14.382912Z",
     "shell.execute_reply.started": "2024-08-20T08:12:12.833707Z"
    }
   },
   "outputs": [
    {
     "name": "stdout",
     "output_type": "stream",
     "text": [
      "Accuracy score for KNN (without HPT): 0.8012\n"
     ]
    }
   ],
   "source": [
    "print(f\"Accuracy score for KNN (without HPT): {accuracy_score(y_val, knn_clf.predict(X_val))}\")"
   ]
  },
  {
   "cell_type": "code",
   "execution_count": 150,
   "metadata": {
    "execution": {
     "iopub.execute_input": "2024-08-20T07:44:44.544637Z",
     "iopub.status.busy": "2024-08-20T07:44:44.544206Z",
     "iopub.status.idle": "2024-08-20T07:48:45.545379Z",
     "shell.execute_reply": "2024-08-20T07:48:45.544069Z",
     "shell.execute_reply.started": "2024-08-20T07:44:44.544604Z"
    }
   },
   "outputs": [
    {
     "data": {
      "text/html": [
       "<style>#sk-container-id-11 {color: black;background-color: white;}#sk-container-id-11 pre{padding: 0;}#sk-container-id-11 div.sk-toggleable {background-color: white;}#sk-container-id-11 label.sk-toggleable__label {cursor: pointer;display: block;width: 100%;margin-bottom: 0;padding: 0.3em;box-sizing: border-box;text-align: center;}#sk-container-id-11 label.sk-toggleable__label-arrow:before {content: \"▸\";float: left;margin-right: 0.25em;color: #696969;}#sk-container-id-11 label.sk-toggleable__label-arrow:hover:before {color: black;}#sk-container-id-11 div.sk-estimator:hover label.sk-toggleable__label-arrow:before {color: black;}#sk-container-id-11 div.sk-toggleable__content {max-height: 0;max-width: 0;overflow: hidden;text-align: left;background-color: #f0f8ff;}#sk-container-id-11 div.sk-toggleable__content pre {margin: 0.2em;color: black;border-radius: 0.25em;background-color: #f0f8ff;}#sk-container-id-11 input.sk-toggleable__control:checked~div.sk-toggleable__content {max-height: 200px;max-width: 100%;overflow: auto;}#sk-container-id-11 input.sk-toggleable__control:checked~label.sk-toggleable__label-arrow:before {content: \"▾\";}#sk-container-id-11 div.sk-estimator input.sk-toggleable__control:checked~label.sk-toggleable__label {background-color: #d4ebff;}#sk-container-id-11 div.sk-label input.sk-toggleable__control:checked~label.sk-toggleable__label {background-color: #d4ebff;}#sk-container-id-11 input.sk-hidden--visually {border: 0;clip: rect(1px 1px 1px 1px);clip: rect(1px, 1px, 1px, 1px);height: 1px;margin: -1px;overflow: hidden;padding: 0;position: absolute;width: 1px;}#sk-container-id-11 div.sk-estimator {font-family: monospace;background-color: #f0f8ff;border: 1px dotted black;border-radius: 0.25em;box-sizing: border-box;margin-bottom: 0.5em;}#sk-container-id-11 div.sk-estimator:hover {background-color: #d4ebff;}#sk-container-id-11 div.sk-parallel-item::after {content: \"\";width: 100%;border-bottom: 1px solid gray;flex-grow: 1;}#sk-container-id-11 div.sk-label:hover label.sk-toggleable__label {background-color: #d4ebff;}#sk-container-id-11 div.sk-serial::before {content: \"\";position: absolute;border-left: 1px solid gray;box-sizing: border-box;top: 0;bottom: 0;left: 50%;z-index: 0;}#sk-container-id-11 div.sk-serial {display: flex;flex-direction: column;align-items: center;background-color: white;padding-right: 0.2em;padding-left: 0.2em;position: relative;}#sk-container-id-11 div.sk-item {position: relative;z-index: 1;}#sk-container-id-11 div.sk-parallel {display: flex;align-items: stretch;justify-content: center;background-color: white;position: relative;}#sk-container-id-11 div.sk-item::before, #sk-container-id-11 div.sk-parallel-item::before {content: \"\";position: absolute;border-left: 1px solid gray;box-sizing: border-box;top: 0;bottom: 0;left: 50%;z-index: -1;}#sk-container-id-11 div.sk-parallel-item {display: flex;flex-direction: column;z-index: 1;position: relative;background-color: white;}#sk-container-id-11 div.sk-parallel-item:first-child::after {align-self: flex-end;width: 50%;}#sk-container-id-11 div.sk-parallel-item:last-child::after {align-self: flex-start;width: 50%;}#sk-container-id-11 div.sk-parallel-item:only-child::after {width: 0;}#sk-container-id-11 div.sk-dashed-wrapped {border: 1px dashed gray;margin: 0 0.4em 0.5em 0.4em;box-sizing: border-box;padding-bottom: 0.4em;background-color: white;}#sk-container-id-11 div.sk-label label {font-family: monospace;font-weight: bold;display: inline-block;line-height: 1.2em;}#sk-container-id-11 div.sk-label-container {text-align: center;}#sk-container-id-11 div.sk-container {/* jupyter's `normalize.less` sets `[hidden] { display: none; }` but bootstrap.min.css set `[hidden] { display: none !important; }` so we also need the `!important` here to be able to override the default hidden behavior on the sphinx rendered scikit-learn.org. See: https://github.com/scikit-learn/scikit-learn/issues/21755 */display: inline-block !important;position: relative;}#sk-container-id-11 div.sk-text-repr-fallback {display: none;}</style><div id=\"sk-container-id-11\" class=\"sk-top-container\"><div class=\"sk-text-repr-fallback\"><pre>GridSearchCV(cv=4, estimator=KNeighborsClassifier(),\n",
       "             param_grid={&#x27;n_neighbors&#x27;: [3, 5], &#x27;p&#x27;: [1, 2],\n",
       "                         &#x27;weights&#x27;: [&#x27;uniform&#x27;, &#x27;distance&#x27;]})</pre><b>In a Jupyter environment, please rerun this cell to show the HTML representation or trust the notebook. <br />On GitHub, the HTML representation is unable to render, please try loading this page with nbviewer.org.</b></div><div class=\"sk-container\" hidden><div class=\"sk-item sk-dashed-wrapped\"><div class=\"sk-label-container\"><div class=\"sk-label sk-toggleable\"><input class=\"sk-toggleable__control sk-hidden--visually\" id=\"sk-estimator-id-15\" type=\"checkbox\" ><label for=\"sk-estimator-id-15\" class=\"sk-toggleable__label sk-toggleable__label-arrow\">GridSearchCV</label><div class=\"sk-toggleable__content\"><pre>GridSearchCV(cv=4, estimator=KNeighborsClassifier(),\n",
       "             param_grid={&#x27;n_neighbors&#x27;: [3, 5], &#x27;p&#x27;: [1, 2],\n",
       "                         &#x27;weights&#x27;: [&#x27;uniform&#x27;, &#x27;distance&#x27;]})</pre></div></div></div><div class=\"sk-parallel\"><div class=\"sk-parallel-item\"><div class=\"sk-item\"><div class=\"sk-label-container\"><div class=\"sk-label sk-toggleable\"><input class=\"sk-toggleable__control sk-hidden--visually\" id=\"sk-estimator-id-16\" type=\"checkbox\" ><label for=\"sk-estimator-id-16\" class=\"sk-toggleable__label sk-toggleable__label-arrow\">estimator: KNeighborsClassifier</label><div class=\"sk-toggleable__content\"><pre>KNeighborsClassifier()</pre></div></div></div><div class=\"sk-serial\"><div class=\"sk-item\"><div class=\"sk-estimator sk-toggleable\"><input class=\"sk-toggleable__control sk-hidden--visually\" id=\"sk-estimator-id-17\" type=\"checkbox\" ><label for=\"sk-estimator-id-17\" class=\"sk-toggleable__label sk-toggleable__label-arrow\">KNeighborsClassifier</label><div class=\"sk-toggleable__content\"><pre>KNeighborsClassifier()</pre></div></div></div></div></div></div></div></div></div></div>"
      ],
      "text/plain": [
       "GridSearchCV(cv=4, estimator=KNeighborsClassifier(),\n",
       "             param_grid={'n_neighbors': [3, 5], 'p': [1, 2],\n",
       "                         'weights': ['uniform', 'distance']})"
      ]
     },
     "execution_count": 150,
     "metadata": {},
     "output_type": "execute_result"
    }
   ],
   "source": [
    "# Hyperparameter tuning allows us to see how the model performs for different parameter combinations.\n",
    "# GridSearchCV allows to combine this with cross validation\n",
    "par_grid = {\n",
    "    \"n_neighbors\": [3, 5], # The number of neighbors that will be included in the computation of the distance\n",
    "    \"weights\": [\"uniform\", \"distance\"], # The method of calculating said distance\n",
    "    \"p\": [1, 2]\n",
    "}\n",
    "\n",
    "knn_grid = GridSearchCV(knn_clf, par_grid, cv=4)\n",
    "knn_grid.fit(X_train_final, y_train)"
   ]
  },
  {
   "cell_type": "code",
   "execution_count": 151,
   "metadata": {
    "execution": {
     "iopub.execute_input": "2024-08-20T07:48:45.547937Z",
     "iopub.status.busy": "2024-08-20T07:48:45.547552Z",
     "iopub.status.idle": "2024-08-20T07:48:45.554716Z",
     "shell.execute_reply": "2024-08-20T07:48:45.553346Z",
     "shell.execute_reply.started": "2024-08-20T07:48:45.547907Z"
    }
   },
   "outputs": [
    {
     "name": "stdout",
     "output_type": "stream",
     "text": [
      "Best Score for Cross validated KNN model: \n",
      "0.8403333333333334\n",
      "\n",
      "\n",
      "Parameters of the model that scored the best: \n",
      "{'n_neighbors': 5, 'p': 1, 'weights': 'distance'}\n"
     ]
    }
   ],
   "source": [
    "print(\"Best Score for Cross validated KNN model: \")\n",
    "print(knn_grid.best_score_)\n",
    "\n",
    "print(\"\\n\")\n",
    "\n",
    "print(\"Parameters of the model that scored the best: \")\n",
    "print(knn_grid.best_params_)"
   ]
  },
  {
   "cell_type": "code",
   "execution_count": 131,
   "metadata": {
    "execution": {
     "iopub.execute_input": "2024-08-20T07:19:16.616176Z",
     "iopub.status.busy": "2024-08-20T07:19:16.613493Z",
     "iopub.status.idle": "2024-08-20T07:19:16.626534Z",
     "shell.execute_reply": "2024-08-20T07:19:16.624563Z",
     "shell.execute_reply.started": "2024-08-20T07:19:16.616107Z"
    }
   },
   "outputs": [],
   "source": [
    "# y_pred = lab_enc.inverse_transform(knn_grid.predict(X_test_final))"
   ]
  },
  {
   "cell_type": "markdown",
   "metadata": {},
   "source": [
    "## Support Vector Machine"
   ]
  },
  {
   "cell_type": "markdown",
   "metadata": {},
   "source": [
    "Running an SVM model with HPT on the data.\n",
    "\n",
    "We use a different method of HPT this time. RandomisedSearchCV runs a specified number of hyperparameter combinations instead of all of them. This lowers the computational load, but comes at the cost of doing an exhaustive analysis of hyperparameters."
   ]
  },
  {
   "cell_type": "code",
   "execution_count": 46,
   "metadata": {
    "execution": {
     "iopub.execute_input": "2024-08-20T08:12:30.001189Z",
     "iopub.status.busy": "2024-08-20T08:12:30.000383Z",
     "iopub.status.idle": "2024-08-20T08:13:00.669209Z",
     "shell.execute_reply": "2024-08-20T08:13:00.668217Z",
     "shell.execute_reply.started": "2024-08-20T08:12:30.001139Z"
    }
   },
   "outputs": [
    {
     "data": {
      "text/html": [
       "<style>#sk-container-id-3 {color: black;background-color: white;}#sk-container-id-3 pre{padding: 0;}#sk-container-id-3 div.sk-toggleable {background-color: white;}#sk-container-id-3 label.sk-toggleable__label {cursor: pointer;display: block;width: 100%;margin-bottom: 0;padding: 0.3em;box-sizing: border-box;text-align: center;}#sk-container-id-3 label.sk-toggleable__label-arrow:before {content: \"▸\";float: left;margin-right: 0.25em;color: #696969;}#sk-container-id-3 label.sk-toggleable__label-arrow:hover:before {color: black;}#sk-container-id-3 div.sk-estimator:hover label.sk-toggleable__label-arrow:before {color: black;}#sk-container-id-3 div.sk-toggleable__content {max-height: 0;max-width: 0;overflow: hidden;text-align: left;background-color: #f0f8ff;}#sk-container-id-3 div.sk-toggleable__content pre {margin: 0.2em;color: black;border-radius: 0.25em;background-color: #f0f8ff;}#sk-container-id-3 input.sk-toggleable__control:checked~div.sk-toggleable__content {max-height: 200px;max-width: 100%;overflow: auto;}#sk-container-id-3 input.sk-toggleable__control:checked~label.sk-toggleable__label-arrow:before {content: \"▾\";}#sk-container-id-3 div.sk-estimator input.sk-toggleable__control:checked~label.sk-toggleable__label {background-color: #d4ebff;}#sk-container-id-3 div.sk-label input.sk-toggleable__control:checked~label.sk-toggleable__label {background-color: #d4ebff;}#sk-container-id-3 input.sk-hidden--visually {border: 0;clip: rect(1px 1px 1px 1px);clip: rect(1px, 1px, 1px, 1px);height: 1px;margin: -1px;overflow: hidden;padding: 0;position: absolute;width: 1px;}#sk-container-id-3 div.sk-estimator {font-family: monospace;background-color: #f0f8ff;border: 1px dotted black;border-radius: 0.25em;box-sizing: border-box;margin-bottom: 0.5em;}#sk-container-id-3 div.sk-estimator:hover {background-color: #d4ebff;}#sk-container-id-3 div.sk-parallel-item::after {content: \"\";width: 100%;border-bottom: 1px solid gray;flex-grow: 1;}#sk-container-id-3 div.sk-label:hover label.sk-toggleable__label {background-color: #d4ebff;}#sk-container-id-3 div.sk-serial::before {content: \"\";position: absolute;border-left: 1px solid gray;box-sizing: border-box;top: 0;bottom: 0;left: 50%;z-index: 0;}#sk-container-id-3 div.sk-serial {display: flex;flex-direction: column;align-items: center;background-color: white;padding-right: 0.2em;padding-left: 0.2em;position: relative;}#sk-container-id-3 div.sk-item {position: relative;z-index: 1;}#sk-container-id-3 div.sk-parallel {display: flex;align-items: stretch;justify-content: center;background-color: white;position: relative;}#sk-container-id-3 div.sk-item::before, #sk-container-id-3 div.sk-parallel-item::before {content: \"\";position: absolute;border-left: 1px solid gray;box-sizing: border-box;top: 0;bottom: 0;left: 50%;z-index: -1;}#sk-container-id-3 div.sk-parallel-item {display: flex;flex-direction: column;z-index: 1;position: relative;background-color: white;}#sk-container-id-3 div.sk-parallel-item:first-child::after {align-self: flex-end;width: 50%;}#sk-container-id-3 div.sk-parallel-item:last-child::after {align-self: flex-start;width: 50%;}#sk-container-id-3 div.sk-parallel-item:only-child::after {width: 0;}#sk-container-id-3 div.sk-dashed-wrapped {border: 1px dashed gray;margin: 0 0.4em 0.5em 0.4em;box-sizing: border-box;padding-bottom: 0.4em;background-color: white;}#sk-container-id-3 div.sk-label label {font-family: monospace;font-weight: bold;display: inline-block;line-height: 1.2em;}#sk-container-id-3 div.sk-label-container {text-align: center;}#sk-container-id-3 div.sk-container {/* jupyter's `normalize.less` sets `[hidden] { display: none; }` but bootstrap.min.css set `[hidden] { display: none !important; }` so we also need the `!important` here to be able to override the default hidden behavior on the sphinx rendered scikit-learn.org. See: https://github.com/scikit-learn/scikit-learn/issues/21755 */display: inline-block !important;position: relative;}#sk-container-id-3 div.sk-text-repr-fallback {display: none;}</style><div id=\"sk-container-id-3\" class=\"sk-top-container\"><div class=\"sk-text-repr-fallback\"><pre>SVC(random_state=42)</pre><b>In a Jupyter environment, please rerun this cell to show the HTML representation or trust the notebook. <br />On GitHub, the HTML representation is unable to render, please try loading this page with nbviewer.org.</b></div><div class=\"sk-container\" hidden><div class=\"sk-item\"><div class=\"sk-estimator sk-toggleable\"><input class=\"sk-toggleable__control sk-hidden--visually\" id=\"sk-estimator-id-3\" type=\"checkbox\" checked><label for=\"sk-estimator-id-3\" class=\"sk-toggleable__label sk-toggleable__label-arrow\">SVC</label><div class=\"sk-toggleable__content\"><pre>SVC(random_state=42)</pre></div></div></div></div></div>"
      ],
      "text/plain": [
       "SVC(random_state=42)"
      ]
     },
     "execution_count": 46,
     "metadata": {},
     "output_type": "execute_result"
    }
   ],
   "source": [
    "svm = SVC(random_state=42)\n",
    "svm.fit(X_train_final, y_train)"
   ]
  },
  {
   "cell_type": "code",
   "execution_count": 47,
   "metadata": {
    "execution": {
     "iopub.execute_input": "2024-08-20T08:13:05.867498Z",
     "iopub.status.busy": "2024-08-20T08:13:05.866478Z",
     "iopub.status.idle": "2024-08-20T08:13:22.001033Z",
     "shell.execute_reply": "2024-08-20T08:13:21.999809Z",
     "shell.execute_reply.started": "2024-08-20T08:13:05.867452Z"
    }
   },
   "outputs": [
    {
     "name": "stdout",
     "output_type": "stream",
     "text": [
      "Accuracy score for SVM (without HPT): 0.9382\n"
     ]
    }
   ],
   "source": [
    "print(f\"Accuracy score for SVM (without HPT): {accuracy_score(y_val, svm.predict(X_val))}\")"
   ]
  },
  {
   "cell_type": "code",
   "execution_count": 134,
   "metadata": {
    "execution": {
     "iopub.execute_input": "2024-08-20T07:20:09.044766Z",
     "iopub.status.busy": "2024-08-20T07:20:09.044222Z",
     "iopub.status.idle": "2024-08-20T07:30:14.136978Z",
     "shell.execute_reply": "2024-08-20T07:30:14.135264Z",
     "shell.execute_reply.started": "2024-08-20T07:20:09.044718Z"
    }
   },
   "outputs": [
    {
     "name": "stdout",
     "output_type": "stream",
     "text": [
      "Fitting 4 folds for each of 5 candidates, totalling 20 fits\n",
      "[CV] END .......................C=1, gamma=0.01, kernel=poly; total time= 1.1min\n",
      "[CV] END .......................C=1, gamma=0.01, kernel=poly; total time= 1.1min\n",
      "[CV] END .......................C=1, gamma=0.01, kernel=poly; total time= 1.1min\n",
      "[CV] END .......................C=1, gamma=0.01, kernel=poly; total time= 1.1min\n",
      "[CV] END .......................C=10, gamma=1, kernel=linear; total time=  18.5s\n",
      "[CV] END .......................C=10, gamma=1, kernel=linear; total time=  21.1s\n",
      "[CV] END .......................C=10, gamma=1, kernel=linear; total time=  20.1s\n",
      "[CV] END .......................C=10, gamma=1, kernel=linear; total time=  20.1s\n",
      "[CV] END ...................C=0.1, gamma=0.01, kernel=linear; total time=  15.9s\n",
      "[CV] END ...................C=0.1, gamma=0.01, kernel=linear; total time=  16.0s\n",
      "[CV] END ...................C=0.1, gamma=0.01, kernel=linear; total time=  16.4s\n",
      "[CV] END ...................C=0.1, gamma=0.01, kernel=linear; total time=  16.0s\n",
      "[CV] END .....................C=1, gamma=0.01, kernel=linear; total time=  12.1s\n",
      "[CV] END .....................C=1, gamma=0.01, kernel=linear; total time=  12.3s\n",
      "[CV] END .....................C=1, gamma=0.01, kernel=linear; total time=  12.1s\n",
      "[CV] END .....................C=1, gamma=0.01, kernel=linear; total time=  12.5s\n",
      "[CV] END ........................C=1, gamma=0.01, kernel=rbf; total time=  31.6s\n",
      "[CV] END ........................C=1, gamma=0.01, kernel=rbf; total time=  32.0s\n",
      "[CV] END ........................C=1, gamma=0.01, kernel=rbf; total time=  31.9s\n",
      "[CV] END ........................C=1, gamma=0.01, kernel=rbf; total time=  31.3s\n"
     ]
    },
    {
     "data": {
      "text/html": [
       "<style>#sk-container-id-6 {color: black;background-color: white;}#sk-container-id-6 pre{padding: 0;}#sk-container-id-6 div.sk-toggleable {background-color: white;}#sk-container-id-6 label.sk-toggleable__label {cursor: pointer;display: block;width: 100%;margin-bottom: 0;padding: 0.3em;box-sizing: border-box;text-align: center;}#sk-container-id-6 label.sk-toggleable__label-arrow:before {content: \"▸\";float: left;margin-right: 0.25em;color: #696969;}#sk-container-id-6 label.sk-toggleable__label-arrow:hover:before {color: black;}#sk-container-id-6 div.sk-estimator:hover label.sk-toggleable__label-arrow:before {color: black;}#sk-container-id-6 div.sk-toggleable__content {max-height: 0;max-width: 0;overflow: hidden;text-align: left;background-color: #f0f8ff;}#sk-container-id-6 div.sk-toggleable__content pre {margin: 0.2em;color: black;border-radius: 0.25em;background-color: #f0f8ff;}#sk-container-id-6 input.sk-toggleable__control:checked~div.sk-toggleable__content {max-height: 200px;max-width: 100%;overflow: auto;}#sk-container-id-6 input.sk-toggleable__control:checked~label.sk-toggleable__label-arrow:before {content: \"▾\";}#sk-container-id-6 div.sk-estimator input.sk-toggleable__control:checked~label.sk-toggleable__label {background-color: #d4ebff;}#sk-container-id-6 div.sk-label input.sk-toggleable__control:checked~label.sk-toggleable__label {background-color: #d4ebff;}#sk-container-id-6 input.sk-hidden--visually {border: 0;clip: rect(1px 1px 1px 1px);clip: rect(1px, 1px, 1px, 1px);height: 1px;margin: -1px;overflow: hidden;padding: 0;position: absolute;width: 1px;}#sk-container-id-6 div.sk-estimator {font-family: monospace;background-color: #f0f8ff;border: 1px dotted black;border-radius: 0.25em;box-sizing: border-box;margin-bottom: 0.5em;}#sk-container-id-6 div.sk-estimator:hover {background-color: #d4ebff;}#sk-container-id-6 div.sk-parallel-item::after {content: \"\";width: 100%;border-bottom: 1px solid gray;flex-grow: 1;}#sk-container-id-6 div.sk-label:hover label.sk-toggleable__label {background-color: #d4ebff;}#sk-container-id-6 div.sk-serial::before {content: \"\";position: absolute;border-left: 1px solid gray;box-sizing: border-box;top: 0;bottom: 0;left: 50%;z-index: 0;}#sk-container-id-6 div.sk-serial {display: flex;flex-direction: column;align-items: center;background-color: white;padding-right: 0.2em;padding-left: 0.2em;position: relative;}#sk-container-id-6 div.sk-item {position: relative;z-index: 1;}#sk-container-id-6 div.sk-parallel {display: flex;align-items: stretch;justify-content: center;background-color: white;position: relative;}#sk-container-id-6 div.sk-item::before, #sk-container-id-6 div.sk-parallel-item::before {content: \"\";position: absolute;border-left: 1px solid gray;box-sizing: border-box;top: 0;bottom: 0;left: 50%;z-index: -1;}#sk-container-id-6 div.sk-parallel-item {display: flex;flex-direction: column;z-index: 1;position: relative;background-color: white;}#sk-container-id-6 div.sk-parallel-item:first-child::after {align-self: flex-end;width: 50%;}#sk-container-id-6 div.sk-parallel-item:last-child::after {align-self: flex-start;width: 50%;}#sk-container-id-6 div.sk-parallel-item:only-child::after {width: 0;}#sk-container-id-6 div.sk-dashed-wrapped {border: 1px dashed gray;margin: 0 0.4em 0.5em 0.4em;box-sizing: border-box;padding-bottom: 0.4em;background-color: white;}#sk-container-id-6 div.sk-label label {font-family: monospace;font-weight: bold;display: inline-block;line-height: 1.2em;}#sk-container-id-6 div.sk-label-container {text-align: center;}#sk-container-id-6 div.sk-container {/* jupyter's `normalize.less` sets `[hidden] { display: none; }` but bootstrap.min.css set `[hidden] { display: none !important; }` so we also need the `!important` here to be able to override the default hidden behavior on the sphinx rendered scikit-learn.org. See: https://github.com/scikit-learn/scikit-learn/issues/21755 */display: inline-block !important;position: relative;}#sk-container-id-6 div.sk-text-repr-fallback {display: none;}</style><div id=\"sk-container-id-6\" class=\"sk-top-container\"><div class=\"sk-text-repr-fallback\"><pre>RandomizedSearchCV(cv=4, estimator=SVC(random_state=42), n_iter=5,\n",
       "                   param_distributions={&#x27;C&#x27;: [0.1, 1, 10],\n",
       "                                        &#x27;gamma&#x27;: [0.01, 0.1, 1],\n",
       "                                        &#x27;kernel&#x27;: [&#x27;rbf&#x27;, &#x27;poly&#x27;, &#x27;linear&#x27;]},\n",
       "                   verbose=2)</pre><b>In a Jupyter environment, please rerun this cell to show the HTML representation or trust the notebook. <br />On GitHub, the HTML representation is unable to render, please try loading this page with nbviewer.org.</b></div><div class=\"sk-container\" hidden><div class=\"sk-item sk-dashed-wrapped\"><div class=\"sk-label-container\"><div class=\"sk-label sk-toggleable\"><input class=\"sk-toggleable__control sk-hidden--visually\" id=\"sk-estimator-id-6\" type=\"checkbox\" ><label for=\"sk-estimator-id-6\" class=\"sk-toggleable__label sk-toggleable__label-arrow\">RandomizedSearchCV</label><div class=\"sk-toggleable__content\"><pre>RandomizedSearchCV(cv=4, estimator=SVC(random_state=42), n_iter=5,\n",
       "                   param_distributions={&#x27;C&#x27;: [0.1, 1, 10],\n",
       "                                        &#x27;gamma&#x27;: [0.01, 0.1, 1],\n",
       "                                        &#x27;kernel&#x27;: [&#x27;rbf&#x27;, &#x27;poly&#x27;, &#x27;linear&#x27;]},\n",
       "                   verbose=2)</pre></div></div></div><div class=\"sk-parallel\"><div class=\"sk-parallel-item\"><div class=\"sk-item\"><div class=\"sk-label-container\"><div class=\"sk-label sk-toggleable\"><input class=\"sk-toggleable__control sk-hidden--visually\" id=\"sk-estimator-id-7\" type=\"checkbox\" ><label for=\"sk-estimator-id-7\" class=\"sk-toggleable__label sk-toggleable__label-arrow\">estimator: SVC</label><div class=\"sk-toggleable__content\"><pre>SVC(random_state=42)</pre></div></div></div><div class=\"sk-serial\"><div class=\"sk-item\"><div class=\"sk-estimator sk-toggleable\"><input class=\"sk-toggleable__control sk-hidden--visually\" id=\"sk-estimator-id-8\" type=\"checkbox\" ><label for=\"sk-estimator-id-8\" class=\"sk-toggleable__label sk-toggleable__label-arrow\">SVC</label><div class=\"sk-toggleable__content\"><pre>SVC(random_state=42)</pre></div></div></div></div></div></div></div></div></div></div>"
      ],
      "text/plain": [
       "RandomizedSearchCV(cv=4, estimator=SVC(random_state=42), n_iter=5,\n",
       "                   param_distributions={'C': [0.1, 1, 10],\n",
       "                                        'gamma': [0.01, 0.1, 1],\n",
       "                                        'kernel': ['rbf', 'poly', 'linear']},\n",
       "                   verbose=2)"
      ]
     },
     "execution_count": 134,
     "metadata": {},
     "output_type": "execute_result"
    }
   ],
   "source": [
    "par_grid = {\n",
    "    'C': [0.1, 1, 10], # Regularization parameter\n",
    "    'kernel': ['rbf', 'poly', 'linear'],\n",
    "    'gamma': [0.01, 0.1, 1] # The margin maintained between each class the linear separators\n",
    "}\n",
    "svm_grid = RandomizedSearchCV(svm, par_grid, cv = 4, n_iter=5, verbose=2)\n",
    "\n",
    "svm_grid.fit(X_train_final, y_train)"
   ]
  },
  {
   "cell_type": "code",
   "execution_count": 135,
   "metadata": {
    "execution": {
     "iopub.execute_input": "2024-08-20T07:30:14.139377Z",
     "iopub.status.busy": "2024-08-20T07:30:14.139005Z",
     "iopub.status.idle": "2024-08-20T07:30:14.146223Z",
     "shell.execute_reply": "2024-08-20T07:30:14.144895Z",
     "shell.execute_reply.started": "2024-08-20T07:30:14.139349Z"
    }
   },
   "outputs": [
    {
     "name": "stdout",
     "output_type": "stream",
     "text": [
      "Best Parameters for SVM: {'kernel': 'linear', 'gamma': 0.01, 'C': 1}\n",
      "Score attained by the model using the best parameters: 0.9433333333333334\n"
     ]
    }
   ],
   "source": [
    "print(f\"Best Parameters for SVM: {svm_grid.best_params_}\")\n",
    "print(f\"Score attained by the model using the best parameters: {svm_grid.best_score_}\")"
   ]
  },
  {
   "cell_type": "code",
   "execution_count": 136,
   "metadata": {
    "execution": {
     "iopub.execute_input": "2024-08-20T07:30:14.148279Z",
     "iopub.status.busy": "2024-08-20T07:30:14.147829Z",
     "iopub.status.idle": "2024-08-20T07:30:16.704579Z",
     "shell.execute_reply": "2024-08-20T07:30:16.703203Z",
     "shell.execute_reply.started": "2024-08-20T07:30:14.148237Z"
    }
   },
   "outputs": [
    {
     "name": "stdout",
     "output_type": "stream",
     "text": [
      "              precision    recall  f1-score   support\n",
      "\n",
      "           0       0.63      0.59      0.61        41\n",
      "           1       0.79      0.83      0.81       460\n",
      "           2       0.92      0.92      0.92       337\n",
      "           3       0.58      0.36      0.44        42\n",
      "           4       0.98      0.98      0.98      2884\n",
      "           5       0.94      0.93      0.93      1236\n",
      "\n",
      "    accuracy                           0.94      5000\n",
      "   macro avg       0.81      0.77      0.78      5000\n",
      "weighted avg       0.94      0.94      0.94      5000\n",
      "\n"
     ]
    }
   ],
   "source": [
    "print(classification_report(y_val, svm_grid.predict(X_val), labels=np.unique(y_val)))"
   ]
  },
  {
   "cell_type": "markdown",
   "metadata": {},
   "source": [
    "Unlike the Logistic Regression, prediction accuracy for the target labels were more uniform in SVM.\n",
    "\n",
    "The high score given by SVM shows us that the model was able to separate the various classes well and maximise the margin between each class the linear separators. The fact that the Linear kernel turned out to be the best one shows us that there was no need to transform the data to a higher dimension to perform the task."
   ]
  },
  {
   "cell_type": "code",
   "execution_count": null,
   "metadata": {},
   "outputs": [],
   "source": [
    "# y_pred = lab_enc.inverse_transform(svm_grid.predict(X_test_final))"
   ]
  },
  {
   "cell_type": "markdown",
   "metadata": {},
   "source": [
    "## Decision Trees"
   ]
  },
  {
   "cell_type": "code",
   "execution_count": 137,
   "metadata": {
    "execution": {
     "iopub.execute_input": "2024-08-20T07:31:24.185092Z",
     "iopub.status.busy": "2024-08-20T07:31:24.184697Z",
     "iopub.status.idle": "2024-08-20T07:31:24.911682Z",
     "shell.execute_reply": "2024-08-20T07:31:24.910592Z",
     "shell.execute_reply.started": "2024-08-20T07:31:24.185062Z"
    }
   },
   "outputs": [
    {
     "data": {
      "text/html": [
       "<style>#sk-container-id-7 {color: black;background-color: white;}#sk-container-id-7 pre{padding: 0;}#sk-container-id-7 div.sk-toggleable {background-color: white;}#sk-container-id-7 label.sk-toggleable__label {cursor: pointer;display: block;width: 100%;margin-bottom: 0;padding: 0.3em;box-sizing: border-box;text-align: center;}#sk-container-id-7 label.sk-toggleable__label-arrow:before {content: \"▸\";float: left;margin-right: 0.25em;color: #696969;}#sk-container-id-7 label.sk-toggleable__label-arrow:hover:before {color: black;}#sk-container-id-7 div.sk-estimator:hover label.sk-toggleable__label-arrow:before {color: black;}#sk-container-id-7 div.sk-toggleable__content {max-height: 0;max-width: 0;overflow: hidden;text-align: left;background-color: #f0f8ff;}#sk-container-id-7 div.sk-toggleable__content pre {margin: 0.2em;color: black;border-radius: 0.25em;background-color: #f0f8ff;}#sk-container-id-7 input.sk-toggleable__control:checked~div.sk-toggleable__content {max-height: 200px;max-width: 100%;overflow: auto;}#sk-container-id-7 input.sk-toggleable__control:checked~label.sk-toggleable__label-arrow:before {content: \"▾\";}#sk-container-id-7 div.sk-estimator input.sk-toggleable__control:checked~label.sk-toggleable__label {background-color: #d4ebff;}#sk-container-id-7 div.sk-label input.sk-toggleable__control:checked~label.sk-toggleable__label {background-color: #d4ebff;}#sk-container-id-7 input.sk-hidden--visually {border: 0;clip: rect(1px 1px 1px 1px);clip: rect(1px, 1px, 1px, 1px);height: 1px;margin: -1px;overflow: hidden;padding: 0;position: absolute;width: 1px;}#sk-container-id-7 div.sk-estimator {font-family: monospace;background-color: #f0f8ff;border: 1px dotted black;border-radius: 0.25em;box-sizing: border-box;margin-bottom: 0.5em;}#sk-container-id-7 div.sk-estimator:hover {background-color: #d4ebff;}#sk-container-id-7 div.sk-parallel-item::after {content: \"\";width: 100%;border-bottom: 1px solid gray;flex-grow: 1;}#sk-container-id-7 div.sk-label:hover label.sk-toggleable__label {background-color: #d4ebff;}#sk-container-id-7 div.sk-serial::before {content: \"\";position: absolute;border-left: 1px solid gray;box-sizing: border-box;top: 0;bottom: 0;left: 50%;z-index: 0;}#sk-container-id-7 div.sk-serial {display: flex;flex-direction: column;align-items: center;background-color: white;padding-right: 0.2em;padding-left: 0.2em;position: relative;}#sk-container-id-7 div.sk-item {position: relative;z-index: 1;}#sk-container-id-7 div.sk-parallel {display: flex;align-items: stretch;justify-content: center;background-color: white;position: relative;}#sk-container-id-7 div.sk-item::before, #sk-container-id-7 div.sk-parallel-item::before {content: \"\";position: absolute;border-left: 1px solid gray;box-sizing: border-box;top: 0;bottom: 0;left: 50%;z-index: -1;}#sk-container-id-7 div.sk-parallel-item {display: flex;flex-direction: column;z-index: 1;position: relative;background-color: white;}#sk-container-id-7 div.sk-parallel-item:first-child::after {align-self: flex-end;width: 50%;}#sk-container-id-7 div.sk-parallel-item:last-child::after {align-self: flex-start;width: 50%;}#sk-container-id-7 div.sk-parallel-item:only-child::after {width: 0;}#sk-container-id-7 div.sk-dashed-wrapped {border: 1px dashed gray;margin: 0 0.4em 0.5em 0.4em;box-sizing: border-box;padding-bottom: 0.4em;background-color: white;}#sk-container-id-7 div.sk-label label {font-family: monospace;font-weight: bold;display: inline-block;line-height: 1.2em;}#sk-container-id-7 div.sk-label-container {text-align: center;}#sk-container-id-7 div.sk-container {/* jupyter's `normalize.less` sets `[hidden] { display: none; }` but bootstrap.min.css set `[hidden] { display: none !important; }` so we also need the `!important` here to be able to override the default hidden behavior on the sphinx rendered scikit-learn.org. See: https://github.com/scikit-learn/scikit-learn/issues/21755 */display: inline-block !important;position: relative;}#sk-container-id-7 div.sk-text-repr-fallback {display: none;}</style><div id=\"sk-container-id-7\" class=\"sk-top-container\"><div class=\"sk-text-repr-fallback\"><pre>DecisionTreeClassifier(random_state=42)</pre><b>In a Jupyter environment, please rerun this cell to show the HTML representation or trust the notebook. <br />On GitHub, the HTML representation is unable to render, please try loading this page with nbviewer.org.</b></div><div class=\"sk-container\" hidden><div class=\"sk-item\"><div class=\"sk-estimator sk-toggleable\"><input class=\"sk-toggleable__control sk-hidden--visually\" id=\"sk-estimator-id-9\" type=\"checkbox\" checked><label for=\"sk-estimator-id-9\" class=\"sk-toggleable__label sk-toggleable__label-arrow\">DecisionTreeClassifier</label><div class=\"sk-toggleable__content\"><pre>DecisionTreeClassifier(random_state=42)</pre></div></div></div></div></div>"
      ],
      "text/plain": [
       "DecisionTreeClassifier(random_state=42)"
      ]
     },
     "execution_count": 137,
     "metadata": {},
     "output_type": "execute_result"
    }
   ],
   "source": [
    "dt_clf = DecisionTreeClassifier(random_state=42)\n",
    "dt_clf.fit(X_train_final, y_train)"
   ]
  },
  {
   "cell_type": "code",
   "execution_count": 139,
   "metadata": {
    "execution": {
     "iopub.execute_input": "2024-08-20T07:32:04.393427Z",
     "iopub.status.busy": "2024-08-20T07:32:04.392960Z",
     "iopub.status.idle": "2024-08-20T07:32:04.429799Z",
     "shell.execute_reply": "2024-08-20T07:32:04.428681Z",
     "shell.execute_reply.started": "2024-08-20T07:32:04.393396Z"
    }
   },
   "outputs": [
    {
     "name": "stdout",
     "output_type": "stream",
     "text": [
      "Accuracy score for Decision Trees: 0.923\n"
     ]
    }
   ],
   "source": [
    "print(f\"Accuracy score for Decision Trees: {accuracy_score(y_val, dt_clf.predict(X_val))}\")"
   ]
  },
  {
   "cell_type": "code",
   "execution_count": 138,
   "metadata": {
    "execution": {
     "iopub.execute_input": "2024-08-20T07:31:27.427643Z",
     "iopub.status.busy": "2024-08-20T07:31:27.426328Z",
     "iopub.status.idle": "2024-08-20T07:31:27.474339Z",
     "shell.execute_reply": "2024-08-20T07:31:27.472754Z",
     "shell.execute_reply.started": "2024-08-20T07:31:27.427598Z"
    }
   },
   "outputs": [
    {
     "name": "stdout",
     "output_type": "stream",
     "text": [
      "              precision    recall  f1-score   support\n",
      "\n",
      "           0       0.50      0.63      0.56        41\n",
      "           1       0.78      0.78      0.78       460\n",
      "           2       0.91      0.88      0.89       337\n",
      "           3       0.30      0.33      0.31        42\n",
      "           4       0.97      0.98      0.98      2884\n",
      "           5       0.91      0.89      0.90      1236\n",
      "\n",
      "    accuracy                           0.92      5000\n",
      "   macro avg       0.73      0.75      0.74      5000\n",
      "weighted avg       0.92      0.92      0.92      5000\n",
      "\n"
     ]
    }
   ],
   "source": [
    "print(classification_report(y_val, dt_clf.predict(X_val), labels=np.unique(y_val)))"
   ]
  },
  {
   "cell_type": "markdown",
   "metadata": {},
   "source": [
    "The perfect accuracy on the training data shows us the model is overfitting the training data. The cross validated scores present a truer picture of how the model performed on the test data."
   ]
  },
  {
   "cell_type": "code",
   "execution_count": null,
   "metadata": {},
   "outputs": [],
   "source": [
    "# y_pred = lab_enc.inverse_transform(dt_clf.predict(X_test_final))"
   ]
  },
  {
   "cell_type": "markdown",
   "metadata": {},
   "source": [
    "## XGBoost (Highest Scoring Model)"
   ]
  },
  {
   "cell_type": "markdown",
   "metadata": {},
   "source": [
    "Unlike the models seen above, XGBoost is an ensemble method of classification/regression that uses several different models and combines them into one model. These base models can be of any type. In this case, we use decision trees as the base models."
   ]
  },
  {
   "cell_type": "code",
   "execution_count": 140,
   "metadata": {
    "execution": {
     "iopub.execute_input": "2024-08-20T07:32:27.431346Z",
     "iopub.status.busy": "2024-08-20T07:32:27.430924Z",
     "iopub.status.idle": "2024-08-20T07:32:38.467304Z",
     "shell.execute_reply": "2024-08-20T07:32:38.465860Z",
     "shell.execute_reply.started": "2024-08-20T07:32:27.431314Z"
    }
   },
   "outputs": [
    {
     "data": {
      "text/html": [
       "<style>#sk-container-id-8 {color: black;background-color: white;}#sk-container-id-8 pre{padding: 0;}#sk-container-id-8 div.sk-toggleable {background-color: white;}#sk-container-id-8 label.sk-toggleable__label {cursor: pointer;display: block;width: 100%;margin-bottom: 0;padding: 0.3em;box-sizing: border-box;text-align: center;}#sk-container-id-8 label.sk-toggleable__label-arrow:before {content: \"▸\";float: left;margin-right: 0.25em;color: #696969;}#sk-container-id-8 label.sk-toggleable__label-arrow:hover:before {color: black;}#sk-container-id-8 div.sk-estimator:hover label.sk-toggleable__label-arrow:before {color: black;}#sk-container-id-8 div.sk-toggleable__content {max-height: 0;max-width: 0;overflow: hidden;text-align: left;background-color: #f0f8ff;}#sk-container-id-8 div.sk-toggleable__content pre {margin: 0.2em;color: black;border-radius: 0.25em;background-color: #f0f8ff;}#sk-container-id-8 input.sk-toggleable__control:checked~div.sk-toggleable__content {max-height: 200px;max-width: 100%;overflow: auto;}#sk-container-id-8 input.sk-toggleable__control:checked~label.sk-toggleable__label-arrow:before {content: \"▾\";}#sk-container-id-8 div.sk-estimator input.sk-toggleable__control:checked~label.sk-toggleable__label {background-color: #d4ebff;}#sk-container-id-8 div.sk-label input.sk-toggleable__control:checked~label.sk-toggleable__label {background-color: #d4ebff;}#sk-container-id-8 input.sk-hidden--visually {border: 0;clip: rect(1px 1px 1px 1px);clip: rect(1px, 1px, 1px, 1px);height: 1px;margin: -1px;overflow: hidden;padding: 0;position: absolute;width: 1px;}#sk-container-id-8 div.sk-estimator {font-family: monospace;background-color: #f0f8ff;border: 1px dotted black;border-radius: 0.25em;box-sizing: border-box;margin-bottom: 0.5em;}#sk-container-id-8 div.sk-estimator:hover {background-color: #d4ebff;}#sk-container-id-8 div.sk-parallel-item::after {content: \"\";width: 100%;border-bottom: 1px solid gray;flex-grow: 1;}#sk-container-id-8 div.sk-label:hover label.sk-toggleable__label {background-color: #d4ebff;}#sk-container-id-8 div.sk-serial::before {content: \"\";position: absolute;border-left: 1px solid gray;box-sizing: border-box;top: 0;bottom: 0;left: 50%;z-index: 0;}#sk-container-id-8 div.sk-serial {display: flex;flex-direction: column;align-items: center;background-color: white;padding-right: 0.2em;padding-left: 0.2em;position: relative;}#sk-container-id-8 div.sk-item {position: relative;z-index: 1;}#sk-container-id-8 div.sk-parallel {display: flex;align-items: stretch;justify-content: center;background-color: white;position: relative;}#sk-container-id-8 div.sk-item::before, #sk-container-id-8 div.sk-parallel-item::before {content: \"\";position: absolute;border-left: 1px solid gray;box-sizing: border-box;top: 0;bottom: 0;left: 50%;z-index: -1;}#sk-container-id-8 div.sk-parallel-item {display: flex;flex-direction: column;z-index: 1;position: relative;background-color: white;}#sk-container-id-8 div.sk-parallel-item:first-child::after {align-self: flex-end;width: 50%;}#sk-container-id-8 div.sk-parallel-item:last-child::after {align-self: flex-start;width: 50%;}#sk-container-id-8 div.sk-parallel-item:only-child::after {width: 0;}#sk-container-id-8 div.sk-dashed-wrapped {border: 1px dashed gray;margin: 0 0.4em 0.5em 0.4em;box-sizing: border-box;padding-bottom: 0.4em;background-color: white;}#sk-container-id-8 div.sk-label label {font-family: monospace;font-weight: bold;display: inline-block;line-height: 1.2em;}#sk-container-id-8 div.sk-label-container {text-align: center;}#sk-container-id-8 div.sk-container {/* jupyter's `normalize.less` sets `[hidden] { display: none; }` but bootstrap.min.css set `[hidden] { display: none !important; }` so we also need the `!important` here to be able to override the default hidden behavior on the sphinx rendered scikit-learn.org. See: https://github.com/scikit-learn/scikit-learn/issues/21755 */display: inline-block !important;position: relative;}#sk-container-id-8 div.sk-text-repr-fallback {display: none;}</style><div id=\"sk-container-id-8\" class=\"sk-top-container\"><div class=\"sk-text-repr-fallback\"><pre>XGBClassifier(base_score=None, booster=None, callbacks=None,\n",
       "              colsample_bylevel=None, colsample_bynode=None,\n",
       "              colsample_bytree=None, device=None, early_stopping_rounds=None,\n",
       "              enable_categorical=False, eval_metric=None, feature_types=None,\n",
       "              gamma=None, grow_policy=None, importance_type=None,\n",
       "              interaction_constraints=None, learning_rate=None, max_bin=None,\n",
       "              max_cat_threshold=None, max_cat_to_onehot=None,\n",
       "              max_delta_step=None, max_depth=None, max_leaves=None,\n",
       "              min_child_weight=None, missing=nan, monotone_constraints=None,\n",
       "              multi_strategy=None, n_estimators=None, n_jobs=None,\n",
       "              num_parallel_tree=None, objective=&#x27;multi:softprob&#x27;, ...)</pre><b>In a Jupyter environment, please rerun this cell to show the HTML representation or trust the notebook. <br />On GitHub, the HTML representation is unable to render, please try loading this page with nbviewer.org.</b></div><div class=\"sk-container\" hidden><div class=\"sk-item\"><div class=\"sk-estimator sk-toggleable\"><input class=\"sk-toggleable__control sk-hidden--visually\" id=\"sk-estimator-id-10\" type=\"checkbox\" checked><label for=\"sk-estimator-id-10\" class=\"sk-toggleable__label sk-toggleable__label-arrow\">XGBClassifier</label><div class=\"sk-toggleable__content\"><pre>XGBClassifier(base_score=None, booster=None, callbacks=None,\n",
       "              colsample_bylevel=None, colsample_bynode=None,\n",
       "              colsample_bytree=None, device=None, early_stopping_rounds=None,\n",
       "              enable_categorical=False, eval_metric=None, feature_types=None,\n",
       "              gamma=None, grow_policy=None, importance_type=None,\n",
       "              interaction_constraints=None, learning_rate=None, max_bin=None,\n",
       "              max_cat_threshold=None, max_cat_to_onehot=None,\n",
       "              max_delta_step=None, max_depth=None, max_leaves=None,\n",
       "              min_child_weight=None, missing=nan, monotone_constraints=None,\n",
       "              multi_strategy=None, n_estimators=None, n_jobs=None,\n",
       "              num_parallel_tree=None, objective=&#x27;multi:softprob&#x27;, ...)</pre></div></div></div></div></div>"
      ],
      "text/plain": [
       "XGBClassifier(base_score=None, booster=None, callbacks=None,\n",
       "              colsample_bylevel=None, colsample_bynode=None,\n",
       "              colsample_bytree=None, device=None, early_stopping_rounds=None,\n",
       "              enable_categorical=False, eval_metric=None, feature_types=None,\n",
       "              gamma=None, grow_policy=None, importance_type=None,\n",
       "              interaction_constraints=None, learning_rate=None, max_bin=None,\n",
       "              max_cat_threshold=None, max_cat_to_onehot=None,\n",
       "              max_delta_step=None, max_depth=None, max_leaves=None,\n",
       "              min_child_weight=None, missing=nan, monotone_constraints=None,\n",
       "              multi_strategy=None, n_estimators=None, n_jobs=None,\n",
       "              num_parallel_tree=None, objective='multi:softprob', ...)"
      ]
     },
     "execution_count": 140,
     "metadata": {},
     "output_type": "execute_result"
    }
   ],
   "source": [
    "xgb_clf = XGBClassifier(random_state=42)\n",
    "xgb_clf.fit(X_train_final, y_train)"
   ]
  },
  {
   "cell_type": "code",
   "execution_count": 141,
   "metadata": {
    "execution": {
     "iopub.execute_input": "2024-08-20T07:32:52.039847Z",
     "iopub.status.busy": "2024-08-20T07:32:52.038134Z",
     "iopub.status.idle": "2024-08-20T07:32:52.264306Z",
     "shell.execute_reply": "2024-08-20T07:32:52.263080Z",
     "shell.execute_reply.started": "2024-08-20T07:32:52.039788Z"
    }
   },
   "outputs": [
    {
     "name": "stdout",
     "output_type": "stream",
     "text": [
      "Accuracy score for XGBoost (without HPT): 0.9496\n"
     ]
    }
   ],
   "source": [
    "print(f\"Accuracy score for XGBoost (without HPT): {accuracy_score(y_val, xgb_clf.predict(X_val))}\")"
   ]
  },
  {
   "cell_type": "code",
   "execution_count": 142,
   "metadata": {
    "execution": {
     "iopub.execute_input": "2024-08-20T07:32:58.466349Z",
     "iopub.status.busy": "2024-08-20T07:32:58.465849Z",
     "iopub.status.idle": "2024-08-20T07:39:22.439007Z",
     "shell.execute_reply": "2024-08-20T07:39:22.437869Z",
     "shell.execute_reply.started": "2024-08-20T07:32:58.466313Z"
    }
   },
   "outputs": [
    {
     "name": "stdout",
     "output_type": "stream",
     "text": [
      "Fitting 4 folds for each of 12 candidates, totalling 48 fits\n",
      "[CV] END colsample_bytree=0.3, learning_rate=0.02, max_depth=3; total time=   8.2s\n",
      "[CV] END colsample_bytree=0.3, learning_rate=0.02, max_depth=3; total time=   6.6s\n",
      "[CV] END colsample_bytree=0.3, learning_rate=0.02, max_depth=3; total time=   6.6s\n",
      "[CV] END colsample_bytree=0.3, learning_rate=0.02, max_depth=3; total time=   7.9s\n",
      "[CV] END colsample_bytree=0.3, learning_rate=0.02, max_depth=5; total time=   8.0s\n",
      "[CV] END colsample_bytree=0.3, learning_rate=0.02, max_depth=5; total time=   8.0s\n",
      "[CV] END colsample_bytree=0.3, learning_rate=0.02, max_depth=5; total time=   8.1s\n",
      "[CV] END colsample_bytree=0.3, learning_rate=0.02, max_depth=5; total time=   9.2s\n",
      "[CV] END colsample_bytree=0.3, learning_rate=0.05, max_depth=3; total time=   6.6s\n",
      "[CV] END colsample_bytree=0.3, learning_rate=0.05, max_depth=3; total time=   6.7s\n",
      "[CV] END colsample_bytree=0.3, learning_rate=0.05, max_depth=3; total time=   6.7s\n",
      "[CV] END colsample_bytree=0.3, learning_rate=0.05, max_depth=3; total time=   8.0s\n",
      "[CV] END colsample_bytree=0.3, learning_rate=0.05, max_depth=5; total time=   8.2s\n",
      "[CV] END colsample_bytree=0.3, learning_rate=0.05, max_depth=5; total time=   8.1s\n",
      "[CV] END colsample_bytree=0.3, learning_rate=0.05, max_depth=5; total time=   8.1s\n",
      "[CV] END colsample_bytree=0.3, learning_rate=0.05, max_depth=5; total time=   9.4s\n",
      "[CV] END colsample_bytree=0.3, learning_rate=0.1, max_depth=3; total time=   6.6s\n",
      "[CV] END colsample_bytree=0.3, learning_rate=0.1, max_depth=3; total time=   6.8s\n",
      "[CV] END colsample_bytree=0.3, learning_rate=0.1, max_depth=3; total time=   6.7s\n",
      "[CV] END colsample_bytree=0.3, learning_rate=0.1, max_depth=3; total time=   8.0s\n",
      "[CV] END colsample_bytree=0.3, learning_rate=0.1, max_depth=5; total time=   8.0s\n",
      "[CV] END colsample_bytree=0.3, learning_rate=0.1, max_depth=5; total time=   8.2s\n",
      "[CV] END colsample_bytree=0.3, learning_rate=0.1, max_depth=5; total time=   8.1s\n",
      "[CV] END colsample_bytree=0.3, learning_rate=0.1, max_depth=5; total time=   9.5s\n",
      "[CV] END colsample_bytree=0.5, learning_rate=0.02, max_depth=3; total time=   6.8s\n",
      "[CV] END colsample_bytree=0.5, learning_rate=0.02, max_depth=3; total time=   6.7s\n",
      "[CV] END colsample_bytree=0.5, learning_rate=0.02, max_depth=3; total time=   6.8s\n",
      "[CV] END colsample_bytree=0.5, learning_rate=0.02, max_depth=3; total time=   6.8s\n",
      "[CV] END colsample_bytree=0.5, learning_rate=0.02, max_depth=5; total time=   9.5s\n",
      "[CV] END colsample_bytree=0.5, learning_rate=0.02, max_depth=5; total time=   8.0s\n",
      "[CV] END colsample_bytree=0.5, learning_rate=0.02, max_depth=5; total time=   8.1s\n",
      "[CV] END colsample_bytree=0.5, learning_rate=0.02, max_depth=5; total time=   9.4s\n",
      "[CV] END colsample_bytree=0.5, learning_rate=0.05, max_depth=3; total time=   7.0s\n",
      "[CV] END colsample_bytree=0.5, learning_rate=0.05, max_depth=3; total time=   6.9s\n",
      "[CV] END colsample_bytree=0.5, learning_rate=0.05, max_depth=3; total time=   6.9s\n",
      "[CV] END colsample_bytree=0.5, learning_rate=0.05, max_depth=3; total time=   6.9s\n",
      "[CV] END colsample_bytree=0.5, learning_rate=0.05, max_depth=5; total time=   9.5s\n",
      "[CV] END colsample_bytree=0.5, learning_rate=0.05, max_depth=5; total time=   8.2s\n",
      "[CV] END colsample_bytree=0.5, learning_rate=0.05, max_depth=5; total time=   8.1s\n",
      "[CV] END colsample_bytree=0.5, learning_rate=0.05, max_depth=5; total time=   9.6s\n",
      "[CV] END colsample_bytree=0.5, learning_rate=0.1, max_depth=3; total time=   6.8s\n",
      "[CV] END colsample_bytree=0.5, learning_rate=0.1, max_depth=3; total time=   6.8s\n",
      "[CV] END colsample_bytree=0.5, learning_rate=0.1, max_depth=3; total time=   6.6s\n",
      "[CV] END colsample_bytree=0.5, learning_rate=0.1, max_depth=3; total time=   6.8s\n",
      "[CV] END colsample_bytree=0.5, learning_rate=0.1, max_depth=5; total time=   9.4s\n",
      "[CV] END colsample_bytree=0.5, learning_rate=0.1, max_depth=5; total time=   8.2s\n",
      "[CV] END colsample_bytree=0.5, learning_rate=0.1, max_depth=5; total time=   8.2s\n",
      "[CV] END colsample_bytree=0.5, learning_rate=0.1, max_depth=5; total time=   8.1s\n"
     ]
    },
    {
     "data": {
      "text/html": [
       "<style>#sk-container-id-9 {color: black;background-color: white;}#sk-container-id-9 pre{padding: 0;}#sk-container-id-9 div.sk-toggleable {background-color: white;}#sk-container-id-9 label.sk-toggleable__label {cursor: pointer;display: block;width: 100%;margin-bottom: 0;padding: 0.3em;box-sizing: border-box;text-align: center;}#sk-container-id-9 label.sk-toggleable__label-arrow:before {content: \"▸\";float: left;margin-right: 0.25em;color: #696969;}#sk-container-id-9 label.sk-toggleable__label-arrow:hover:before {color: black;}#sk-container-id-9 div.sk-estimator:hover label.sk-toggleable__label-arrow:before {color: black;}#sk-container-id-9 div.sk-toggleable__content {max-height: 0;max-width: 0;overflow: hidden;text-align: left;background-color: #f0f8ff;}#sk-container-id-9 div.sk-toggleable__content pre {margin: 0.2em;color: black;border-radius: 0.25em;background-color: #f0f8ff;}#sk-container-id-9 input.sk-toggleable__control:checked~div.sk-toggleable__content {max-height: 200px;max-width: 100%;overflow: auto;}#sk-container-id-9 input.sk-toggleable__control:checked~label.sk-toggleable__label-arrow:before {content: \"▾\";}#sk-container-id-9 div.sk-estimator input.sk-toggleable__control:checked~label.sk-toggleable__label {background-color: #d4ebff;}#sk-container-id-9 div.sk-label input.sk-toggleable__control:checked~label.sk-toggleable__label {background-color: #d4ebff;}#sk-container-id-9 input.sk-hidden--visually {border: 0;clip: rect(1px 1px 1px 1px);clip: rect(1px, 1px, 1px, 1px);height: 1px;margin: -1px;overflow: hidden;padding: 0;position: absolute;width: 1px;}#sk-container-id-9 div.sk-estimator {font-family: monospace;background-color: #f0f8ff;border: 1px dotted black;border-radius: 0.25em;box-sizing: border-box;margin-bottom: 0.5em;}#sk-container-id-9 div.sk-estimator:hover {background-color: #d4ebff;}#sk-container-id-9 div.sk-parallel-item::after {content: \"\";width: 100%;border-bottom: 1px solid gray;flex-grow: 1;}#sk-container-id-9 div.sk-label:hover label.sk-toggleable__label {background-color: #d4ebff;}#sk-container-id-9 div.sk-serial::before {content: \"\";position: absolute;border-left: 1px solid gray;box-sizing: border-box;top: 0;bottom: 0;left: 50%;z-index: 0;}#sk-container-id-9 div.sk-serial {display: flex;flex-direction: column;align-items: center;background-color: white;padding-right: 0.2em;padding-left: 0.2em;position: relative;}#sk-container-id-9 div.sk-item {position: relative;z-index: 1;}#sk-container-id-9 div.sk-parallel {display: flex;align-items: stretch;justify-content: center;background-color: white;position: relative;}#sk-container-id-9 div.sk-item::before, #sk-container-id-9 div.sk-parallel-item::before {content: \"\";position: absolute;border-left: 1px solid gray;box-sizing: border-box;top: 0;bottom: 0;left: 50%;z-index: -1;}#sk-container-id-9 div.sk-parallel-item {display: flex;flex-direction: column;z-index: 1;position: relative;background-color: white;}#sk-container-id-9 div.sk-parallel-item:first-child::after {align-self: flex-end;width: 50%;}#sk-container-id-9 div.sk-parallel-item:last-child::after {align-self: flex-start;width: 50%;}#sk-container-id-9 div.sk-parallel-item:only-child::after {width: 0;}#sk-container-id-9 div.sk-dashed-wrapped {border: 1px dashed gray;margin: 0 0.4em 0.5em 0.4em;box-sizing: border-box;padding-bottom: 0.4em;background-color: white;}#sk-container-id-9 div.sk-label label {font-family: monospace;font-weight: bold;display: inline-block;line-height: 1.2em;}#sk-container-id-9 div.sk-label-container {text-align: center;}#sk-container-id-9 div.sk-container {/* jupyter's `normalize.less` sets `[hidden] { display: none; }` but bootstrap.min.css set `[hidden] { display: none !important; }` so we also need the `!important` here to be able to override the default hidden behavior on the sphinx rendered scikit-learn.org. See: https://github.com/scikit-learn/scikit-learn/issues/21755 */display: inline-block !important;position: relative;}#sk-container-id-9 div.sk-text-repr-fallback {display: none;}</style><div id=\"sk-container-id-9\" class=\"sk-top-container\"><div class=\"sk-text-repr-fallback\"><pre>GridSearchCV(cv=4,\n",
       "             estimator=XGBClassifier(base_score=None, booster=None,\n",
       "                                     callbacks=None, colsample_bylevel=None,\n",
       "                                     colsample_bynode=None,\n",
       "                                     colsample_bytree=None, device=None,\n",
       "                                     early_stopping_rounds=None,\n",
       "                                     enable_categorical=False, eval_metric=None,\n",
       "                                     feature_types=None, gamma=None,\n",
       "                                     grow_policy=None, importance_type=None,\n",
       "                                     interaction_constraints=None,\n",
       "                                     learning_rate=None,...\n",
       "                                     max_cat_threshold=None,\n",
       "                                     max_cat_to_onehot=None,\n",
       "                                     max_delta_step=None, max_depth=None,\n",
       "                                     max_leaves=None, min_child_weight=None,\n",
       "                                     missing=nan, monotone_constraints=None,\n",
       "                                     multi_strategy=None, n_estimators=None,\n",
       "                                     n_jobs=None, num_parallel_tree=None,\n",
       "                                     objective=&#x27;multi:softprob&#x27;, ...),\n",
       "             param_grid={&#x27;colsample_bytree&#x27;: [0.3, 0.5],\n",
       "                         &#x27;learning_rate&#x27;: [0.02, 0.05, 0.1],\n",
       "                         &#x27;max_depth&#x27;: [3, 5]},\n",
       "             verbose=2)</pre><b>In a Jupyter environment, please rerun this cell to show the HTML representation or trust the notebook. <br />On GitHub, the HTML representation is unable to render, please try loading this page with nbviewer.org.</b></div><div class=\"sk-container\" hidden><div class=\"sk-item sk-dashed-wrapped\"><div class=\"sk-label-container\"><div class=\"sk-label sk-toggleable\"><input class=\"sk-toggleable__control sk-hidden--visually\" id=\"sk-estimator-id-11\" type=\"checkbox\" ><label for=\"sk-estimator-id-11\" class=\"sk-toggleable__label sk-toggleable__label-arrow\">GridSearchCV</label><div class=\"sk-toggleable__content\"><pre>GridSearchCV(cv=4,\n",
       "             estimator=XGBClassifier(base_score=None, booster=None,\n",
       "                                     callbacks=None, colsample_bylevel=None,\n",
       "                                     colsample_bynode=None,\n",
       "                                     colsample_bytree=None, device=None,\n",
       "                                     early_stopping_rounds=None,\n",
       "                                     enable_categorical=False, eval_metric=None,\n",
       "                                     feature_types=None, gamma=None,\n",
       "                                     grow_policy=None, importance_type=None,\n",
       "                                     interaction_constraints=None,\n",
       "                                     learning_rate=None,...\n",
       "                                     max_cat_threshold=None,\n",
       "                                     max_cat_to_onehot=None,\n",
       "                                     max_delta_step=None, max_depth=None,\n",
       "                                     max_leaves=None, min_child_weight=None,\n",
       "                                     missing=nan, monotone_constraints=None,\n",
       "                                     multi_strategy=None, n_estimators=None,\n",
       "                                     n_jobs=None, num_parallel_tree=None,\n",
       "                                     objective=&#x27;multi:softprob&#x27;, ...),\n",
       "             param_grid={&#x27;colsample_bytree&#x27;: [0.3, 0.5],\n",
       "                         &#x27;learning_rate&#x27;: [0.02, 0.05, 0.1],\n",
       "                         &#x27;max_depth&#x27;: [3, 5]},\n",
       "             verbose=2)</pre></div></div></div><div class=\"sk-parallel\"><div class=\"sk-parallel-item\"><div class=\"sk-item\"><div class=\"sk-label-container\"><div class=\"sk-label sk-toggleable\"><input class=\"sk-toggleable__control sk-hidden--visually\" id=\"sk-estimator-id-12\" type=\"checkbox\" ><label for=\"sk-estimator-id-12\" class=\"sk-toggleable__label sk-toggleable__label-arrow\">estimator: XGBClassifier</label><div class=\"sk-toggleable__content\"><pre>XGBClassifier(base_score=None, booster=None, callbacks=None,\n",
       "              colsample_bylevel=None, colsample_bynode=None,\n",
       "              colsample_bytree=None, device=None, early_stopping_rounds=None,\n",
       "              enable_categorical=False, eval_metric=None, feature_types=None,\n",
       "              gamma=None, grow_policy=None, importance_type=None,\n",
       "              interaction_constraints=None, learning_rate=None, max_bin=None,\n",
       "              max_cat_threshold=None, max_cat_to_onehot=None,\n",
       "              max_delta_step=None, max_depth=None, max_leaves=None,\n",
       "              min_child_weight=None, missing=nan, monotone_constraints=None,\n",
       "              multi_strategy=None, n_estimators=None, n_jobs=None,\n",
       "              num_parallel_tree=None, objective=&#x27;multi:softprob&#x27;, ...)</pre></div></div></div><div class=\"sk-serial\"><div class=\"sk-item\"><div class=\"sk-estimator sk-toggleable\"><input class=\"sk-toggleable__control sk-hidden--visually\" id=\"sk-estimator-id-13\" type=\"checkbox\" ><label for=\"sk-estimator-id-13\" class=\"sk-toggleable__label sk-toggleable__label-arrow\">XGBClassifier</label><div class=\"sk-toggleable__content\"><pre>XGBClassifier(base_score=None, booster=None, callbacks=None,\n",
       "              colsample_bylevel=None, colsample_bynode=None,\n",
       "              colsample_bytree=None, device=None, early_stopping_rounds=None,\n",
       "              enable_categorical=False, eval_metric=None, feature_types=None,\n",
       "              gamma=None, grow_policy=None, importance_type=None,\n",
       "              interaction_constraints=None, learning_rate=None, max_bin=None,\n",
       "              max_cat_threshold=None, max_cat_to_onehot=None,\n",
       "              max_delta_step=None, max_depth=None, max_leaves=None,\n",
       "              min_child_weight=None, missing=nan, monotone_constraints=None,\n",
       "              multi_strategy=None, n_estimators=None, n_jobs=None,\n",
       "              num_parallel_tree=None, objective=&#x27;multi:softprob&#x27;, ...)</pre></div></div></div></div></div></div></div></div></div></div>"
      ],
      "text/plain": [
       "GridSearchCV(cv=4,\n",
       "             estimator=XGBClassifier(base_score=None, booster=None,\n",
       "                                     callbacks=None, colsample_bylevel=None,\n",
       "                                     colsample_bynode=None,\n",
       "                                     colsample_bytree=None, device=None,\n",
       "                                     early_stopping_rounds=None,\n",
       "                                     enable_categorical=False, eval_metric=None,\n",
       "                                     feature_types=None, gamma=None,\n",
       "                                     grow_policy=None, importance_type=None,\n",
       "                                     interaction_constraints=None,\n",
       "                                     learning_rate=None,...\n",
       "                                     max_cat_threshold=None,\n",
       "                                     max_cat_to_onehot=None,\n",
       "                                     max_delta_step=None, max_depth=None,\n",
       "                                     max_leaves=None, min_child_weight=None,\n",
       "                                     missing=nan, monotone_constraints=None,\n",
       "                                     multi_strategy=None, n_estimators=None,\n",
       "                                     n_jobs=None, num_parallel_tree=None,\n",
       "                                     objective='multi:softprob', ...),\n",
       "             param_grid={'colsample_bytree': [0.3, 0.5],\n",
       "                         'learning_rate': [0.02, 0.05, 0.1],\n",
       "                         'max_depth': [3, 5]},\n",
       "             verbose=2)"
      ]
     },
     "execution_count": 142,
     "metadata": {},
     "output_type": "execute_result"
    }
   ],
   "source": [
    "par_grid = {\n",
    "    \"learning_rate\": [0.02, 0.05, 0.1],\n",
    "    \"max_depth\": [3, 5], # The maximum depth of each individual tree, which are then combined to form the model\n",
    "    \"colsample_bytree\": [0.3, 0.5] # The number of features that are taken into account while creating each tree\n",
    "}\n",
    "\n",
    "xgb_grid = GridSearchCV(xgb_clf, par_grid, cv=4, verbose=2)\n",
    "xgb_grid.fit(X_train_final, y_train)"
   ]
  },
  {
   "cell_type": "code",
   "execution_count": 143,
   "metadata": {
    "execution": {
     "iopub.execute_input": "2024-08-20T07:39:22.441254Z",
     "iopub.status.busy": "2024-08-20T07:39:22.440915Z",
     "iopub.status.idle": "2024-08-20T07:39:22.448303Z",
     "shell.execute_reply": "2024-08-20T07:39:22.447144Z",
     "shell.execute_reply.started": "2024-08-20T07:39:22.441225Z"
    }
   },
   "outputs": [
    {
     "name": "stdout",
     "output_type": "stream",
     "text": [
      "Best parameters: {'colsample_bytree': 0.5, 'learning_rate': 0.1, 'max_depth': 5}\n",
      "Best Score with the above parameters: 0.946\n"
     ]
    }
   ],
   "source": [
    "print(f\"Best parameters: {xgb_grid.best_params_}\")\n",
    "print(f\"Best Score with the above parameters: {xgb_grid.best_score_}\")"
   ]
  },
  {
   "cell_type": "code",
   "execution_count": 144,
   "metadata": {
    "execution": {
     "iopub.execute_input": "2024-08-20T07:39:22.450565Z",
     "iopub.status.busy": "2024-08-20T07:39:22.450127Z",
     "iopub.status.idle": "2024-08-20T07:39:22.608755Z",
     "shell.execute_reply": "2024-08-20T07:39:22.607512Z",
     "shell.execute_reply.started": "2024-08-20T07:39:22.450508Z"
    }
   },
   "outputs": [
    {
     "name": "stdout",
     "output_type": "stream",
     "text": [
      "              precision    recall  f1-score   support\n",
      "\n",
      "           0       0.74      0.76      0.75        41\n",
      "           1       0.83      0.79      0.81       460\n",
      "           2       0.93      0.93      0.93       337\n",
      "           3       0.56      0.12      0.20        42\n",
      "           4       0.98      0.99      0.98      2884\n",
      "           5       0.91      0.95      0.93      1236\n",
      "\n",
      "    accuracy                           0.95      5000\n",
      "   macro avg       0.82      0.76      0.77      5000\n",
      "weighted avg       0.94      0.95      0.94      5000\n",
      "\n"
     ]
    }
   ],
   "source": [
    "print(classification_report(y_val, xgb_grid.predict(X_val), labels=np.unique(y_val)))"
   ]
  },
  {
   "cell_type": "code",
   "execution_count": 145,
   "metadata": {
    "execution": {
     "iopub.execute_input": "2024-08-20T07:39:22.611975Z",
     "iopub.status.busy": "2024-08-20T07:39:22.611600Z",
     "iopub.status.idle": "2024-08-20T07:39:22.750627Z",
     "shell.execute_reply": "2024-08-20T07:39:22.749707Z",
     "shell.execute_reply.started": "2024-08-20T07:39:22.611938Z"
    }
   },
   "outputs": [],
   "source": [
    "y_pred = lab_enc.inverse_transform(xgb_grid.predict(X_test_final))"
   ]
  },
  {
   "cell_type": "markdown",
   "metadata": {},
   "source": [
    "## Dummy Classifier"
   ]
  },
  {
   "cell_type": "code",
   "execution_count": 52,
   "metadata": {
    "execution": {
     "iopub.execute_input": "2024-08-15T20:37:00.881376Z",
     "iopub.status.busy": "2024-08-15T20:37:00.880918Z",
     "iopub.status.idle": "2024-08-15T20:37:00.887313Z",
     "shell.execute_reply": "2024-08-15T20:37:00.885631Z",
     "shell.execute_reply.started": "2024-08-15T20:37:00.881342Z"
    }
   },
   "outputs": [],
   "source": [
    "# from sklearn.dummy import DummyClassifier\n",
    "# dummy_clf = DummyClassifier(strategy = 'most_frequent')\n",
    "\n",
    "# dummy_clf.fit(X_train, y_train)\n",
    "\n",
    "# y_pred = dummy_clf.predict(X_test)"
   ]
  },
  {
   "cell_type": "markdown",
   "metadata": {
    "execution": {
     "iopub.execute_input": "2024-08-10T11:18:02.434294Z",
     "iopub.status.busy": "2024-08-10T11:18:02.433524Z",
     "iopub.status.idle": "2024-08-10T11:18:02.438760Z",
     "shell.execute_reply": "2024-08-10T11:18:02.437664Z",
     "shell.execute_reply.started": "2024-08-10T11:18:02.434257Z"
    }
   },
   "source": [
    "# Insights from Model Performance"
   ]
  },
  {
   "cell_type": "markdown",
   "metadata": {},
   "source": [
    "- As we saw from the results above and from the scores from when each model was submitted, the 3 best performing models were XGBoost, Logistic Regression and Support Vector Machine, all of whom resulted in an accuracy score of over 0.93 on the training and test data.\n",
    "- All three models however, couldn't score more than 0.948.\n",
    "- Decision Trees performed decently too, but fell short of the above 3. However, since Decision Trees are the base for the XGBoost, which is an ensemble method, the XGBoost was able to combine various underperforming trees and combine them into a better model\n",
    "- It's also interesting to note that all the models provided largely similar scores on the cross-validated training data to the test data, meaning that all the models were relatively well constructed and did not overfit the data."
   ]
  },
  {
   "cell_type": "markdown",
   "metadata": {},
   "source": [
    "# Sample Submission for Reference"
   ]
  },
  {
   "cell_type": "code",
   "execution_count": 53,
   "metadata": {
    "execution": {
     "iopub.execute_input": "2024-08-15T20:37:00.890064Z",
     "iopub.status.busy": "2024-08-15T20:37:00.889654Z",
     "iopub.status.idle": "2024-08-15T20:37:00.917022Z",
     "shell.execute_reply": "2024-08-15T20:37:00.915953Z",
     "shell.execute_reply.started": "2024-08-15T20:37:00.890032Z"
    }
   },
   "outputs": [
    {
     "data": {
      "text/html": [
       "<div>\n",
       "<style scoped>\n",
       "    .dataframe tbody tr th:only-of-type {\n",
       "        vertical-align: middle;\n",
       "    }\n",
       "\n",
       "    .dataframe tbody tr th {\n",
       "        vertical-align: top;\n",
       "    }\n",
       "\n",
       "    .dataframe thead th {\n",
       "        text-align: right;\n",
       "    }\n",
       "</style>\n",
       "<table border=\"1\" class=\"dataframe\">\n",
       "  <thead>\n",
       "    <tr style=\"text-align: right;\">\n",
       "      <th></th>\n",
       "      <th>ID</th>\n",
       "      <th>Crime_Category</th>\n",
       "      <th>Unnamed: 2</th>\n",
       "    </tr>\n",
       "  </thead>\n",
       "  <tbody>\n",
       "    <tr>\n",
       "      <th>0</th>\n",
       "      <td>1</td>\n",
       "      <td>Crimes against Persons</td>\n",
       "      <td>NaN</td>\n",
       "    </tr>\n",
       "    <tr>\n",
       "      <th>1</th>\n",
       "      <td>2</td>\n",
       "      <td>Crimes against Public Order</td>\n",
       "      <td>NaN</td>\n",
       "    </tr>\n",
       "    <tr>\n",
       "      <th>2</th>\n",
       "      <td>3</td>\n",
       "      <td>Other Crimes</td>\n",
       "      <td>NaN</td>\n",
       "    </tr>\n",
       "    <tr>\n",
       "      <th>3</th>\n",
       "      <td>4</td>\n",
       "      <td>Crimes against Public Order</td>\n",
       "      <td>NaN</td>\n",
       "    </tr>\n",
       "    <tr>\n",
       "      <th>4</th>\n",
       "      <td>5</td>\n",
       "      <td>Other Crimes</td>\n",
       "      <td>NaN</td>\n",
       "    </tr>\n",
       "    <tr>\n",
       "      <th>5</th>\n",
       "      <td>6</td>\n",
       "      <td>Crimes against Persons</td>\n",
       "      <td>NaN</td>\n",
       "    </tr>\n",
       "    <tr>\n",
       "      <th>6</th>\n",
       "      <td>7</td>\n",
       "      <td>Other Crimes</td>\n",
       "      <td>NaN</td>\n",
       "    </tr>\n",
       "    <tr>\n",
       "      <th>7</th>\n",
       "      <td>8</td>\n",
       "      <td>Property Crimes</td>\n",
       "      <td>NaN</td>\n",
       "    </tr>\n",
       "    <tr>\n",
       "      <th>8</th>\n",
       "      <td>9</td>\n",
       "      <td>Property Crimes</td>\n",
       "      <td>NaN</td>\n",
       "    </tr>\n",
       "    <tr>\n",
       "      <th>9</th>\n",
       "      <td>10</td>\n",
       "      <td>Other Crimes</td>\n",
       "      <td>NaN</td>\n",
       "    </tr>\n",
       "  </tbody>\n",
       "</table>\n",
       "</div>"
      ],
      "text/plain": [
       "   ID              Crime_Category   Unnamed: 2\n",
       "0   1       Crimes against Persons         NaN\n",
       "1   2  Crimes against Public Order         NaN\n",
       "2   3                 Other Crimes         NaN\n",
       "3   4  Crimes against Public Order         NaN\n",
       "4   5                 Other Crimes         NaN\n",
       "5   6       Crimes against Persons         NaN\n",
       "6   7                 Other Crimes         NaN\n",
       "7   8              Property Crimes         NaN\n",
       "8   9              Property Crimes         NaN\n",
       "9  10                 Other Crimes         NaN"
      ]
     },
     "execution_count": 53,
     "metadata": {},
     "output_type": "execute_result"
    }
   ],
   "source": [
    "sample = pd.read_csv(\"sample.csv\")\n",
    "sample.head(10)"
   ]
  },
  {
   "cell_type": "markdown",
   "metadata": {},
   "source": [
    "# Submission"
   ]
  },
  {
   "cell_type": "code",
   "execution_count": 54,
   "metadata": {
    "execution": {
     "iopub.execute_input": "2024-08-15T20:37:00.918888Z",
     "iopub.status.busy": "2024-08-15T20:37:00.918516Z",
     "iopub.status.idle": "2024-08-15T20:37:00.947981Z",
     "shell.execute_reply": "2024-08-15T20:37:00.946648Z",
     "shell.execute_reply.started": "2024-08-15T20:37:00.918858Z"
    }
   },
   "outputs": [],
   "source": [
    "submission = pd.DataFrame({\n",
    "    \"ID\": np.arange(1, 5001),\n",
    "    \"Crime_Category\": y_pred\n",
    "})\n",
    "\n",
    "submission.to_csv(\"submission.csv\", index = False)"
   ]
  },
  {
   "cell_type": "code",
   "execution_count": 55,
   "metadata": {
    "execution": {
     "iopub.execute_input": "2024-08-15T20:37:00.950355Z",
     "iopub.status.busy": "2024-08-15T20:37:00.949833Z",
     "iopub.status.idle": "2024-08-15T20:37:00.970055Z",
     "shell.execute_reply": "2024-08-15T20:37:00.968399Z",
     "shell.execute_reply.started": "2024-08-15T20:37:00.950303Z"
    }
   },
   "outputs": [
    {
     "data": {
      "text/html": [
       "<div>\n",
       "<style scoped>\n",
       "    .dataframe tbody tr th:only-of-type {\n",
       "        vertical-align: middle;\n",
       "    }\n",
       "\n",
       "    .dataframe tbody tr th {\n",
       "        vertical-align: top;\n",
       "    }\n",
       "\n",
       "    .dataframe thead th {\n",
       "        text-align: right;\n",
       "    }\n",
       "</style>\n",
       "<table border=\"1\" class=\"dataframe\">\n",
       "  <thead>\n",
       "    <tr style=\"text-align: right;\">\n",
       "      <th></th>\n",
       "      <th>ID</th>\n",
       "      <th>Crime_Category</th>\n",
       "    </tr>\n",
       "  </thead>\n",
       "  <tbody>\n",
       "    <tr>\n",
       "      <th>0</th>\n",
       "      <td>1</td>\n",
       "      <td>Violent Crimes</td>\n",
       "    </tr>\n",
       "    <tr>\n",
       "      <th>1</th>\n",
       "      <td>2</td>\n",
       "      <td>Property Crimes</td>\n",
       "    </tr>\n",
       "    <tr>\n",
       "      <th>2</th>\n",
       "      <td>3</td>\n",
       "      <td>Fraud and White-Collar Crimes</td>\n",
       "    </tr>\n",
       "    <tr>\n",
       "      <th>3</th>\n",
       "      <td>4</td>\n",
       "      <td>Property Crimes</td>\n",
       "    </tr>\n",
       "    <tr>\n",
       "      <th>4</th>\n",
       "      <td>5</td>\n",
       "      <td>Crimes against Public Order</td>\n",
       "    </tr>\n",
       "    <tr>\n",
       "      <th>...</th>\n",
       "      <td>...</td>\n",
       "      <td>...</td>\n",
       "    </tr>\n",
       "    <tr>\n",
       "      <th>4995</th>\n",
       "      <td>4996</td>\n",
       "      <td>Property Crimes</td>\n",
       "    </tr>\n",
       "    <tr>\n",
       "      <th>4996</th>\n",
       "      <td>4997</td>\n",
       "      <td>Property Crimes</td>\n",
       "    </tr>\n",
       "    <tr>\n",
       "      <th>4997</th>\n",
       "      <td>4998</td>\n",
       "      <td>Violent Crimes</td>\n",
       "    </tr>\n",
       "    <tr>\n",
       "      <th>4998</th>\n",
       "      <td>4999</td>\n",
       "      <td>Violent Crimes</td>\n",
       "    </tr>\n",
       "    <tr>\n",
       "      <th>4999</th>\n",
       "      <td>5000</td>\n",
       "      <td>Property Crimes</td>\n",
       "    </tr>\n",
       "  </tbody>\n",
       "</table>\n",
       "<p>5000 rows × 2 columns</p>\n",
       "</div>"
      ],
      "text/plain": [
       "        ID                 Crime_Category\n",
       "0        1                 Violent Crimes\n",
       "1        2                Property Crimes\n",
       "2        3  Fraud and White-Collar Crimes\n",
       "3        4                Property Crimes\n",
       "4        5    Crimes against Public Order\n",
       "...    ...                            ...\n",
       "4995  4996                Property Crimes\n",
       "4996  4997                Property Crimes\n",
       "4997  4998                 Violent Crimes\n",
       "4998  4999                 Violent Crimes\n",
       "4999  5000                Property Crimes\n",
       "\n",
       "[5000 rows x 2 columns]"
      ]
     },
     "execution_count": 55,
     "metadata": {},
     "output_type": "execute_result"
    }
   ],
   "source": [
    "pd.read_csv(\"submission.csv\")"
   ]
  }
 ],
 "metadata": {
  "kaggle": {
   "accelerator": "none",
   "dataSources": [
    {
     "databundleVersionId": 8446444,
     "sourceId": 77420,
     "sourceType": "competition"
    }
   ],
   "dockerImageVersionId": 30732,
   "isGpuEnabled": false,
   "isInternetEnabled": true,
   "language": "python",
   "sourceType": "notebook"
  },
  "kernelspec": {
   "display_name": "Python 3 (ipykernel)",
   "language": "python",
   "name": "python3"
  },
  "language_info": {
   "codemirror_mode": {
    "name": "ipython",
    "version": 3
   },
   "file_extension": ".py",
   "mimetype": "text/x-python",
   "name": "python",
   "nbconvert_exporter": "python",
   "pygments_lexer": "ipython3",
   "version": "3.10.12"
  }
 },
 "nbformat": 4,
 "nbformat_minor": 4
}
